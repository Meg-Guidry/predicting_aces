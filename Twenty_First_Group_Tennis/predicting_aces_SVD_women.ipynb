{
 "cells": [
  {
   "cell_type": "code",
   "execution_count": 35,
   "id": "136a0607-6ab3-4d2a-b131-88ef07282e09",
   "metadata": {},
   "outputs": [],
   "source": [
    "import pandas as pd\n",
    "import numpy as np\n",
    "from sklearn.metrics import mean_squared_error\n",
    "import seaborn as sns\n",
    "import matplotlib.pyplot as plt\n",
    "\n",
    "from surprise.reader import Reader\n",
    "from surprise.dataset import Dataset\n",
    "from surprise.model_selection import train_test_split\n",
    "from surprise import SVD\n",
    "from surprise.model_selection.validation import cross_validate\n",
    "from surprise import accuracy"
   ]
  },
  {
   "cell_type": "code",
   "execution_count": 36,
   "id": "287e5473-ba13-4ba7-99fb-118c69e6aa9d",
   "metadata": {},
   "outputs": [],
   "source": [
    "tennis_df = pd.read_excel(\"tennis.xlsx\")"
   ]
  },
  {
   "cell_type": "code",
   "execution_count": 37,
   "id": "feac03a1-8178-4a94-899b-bdb3d44985a0",
   "metadata": {},
   "outputs": [],
   "source": [
    "# Create aces dictionary function. \n",
    "# This function will be used to reformat the original data.\n",
    "# We want a separate row for each server instead of a seperate row for each match\n",
    "\n",
    "def aces_dict_add(row):\n",
    "    aces_dict_data[\"server\"].append(row[\"winner_name\"])\n",
    "    aces_dict_data[\"returner\"].append(row[\"loser_name\"])\n",
    "    aces_dict_data[\"X\"].append(row[\"X\"])\n",
    "    aces_dict_data[\"match_num\"].append(row[\"match_num\"])\n",
    "    aces_dict_data[\"WorL\"].append(\"W\")\n",
    "    aces_dict_data[\"aces\"].append(row[\"winner_aces\"])\n",
    "    aces_dict_data[\"male_or_female\"].append(row[\"gender\"])\n",
    "\n",
    "    aces_dict_data[\"server\"].append(row[\"loser_name\"])\n",
    "    aces_dict_data[\"returner\"].append(row[\"winner_name\"])\n",
    "    aces_dict_data[\"X\"].append(row[\"X\"])\n",
    "    aces_dict_data[\"match_num\"].append(row[\"match_num\"])\n",
    "    aces_dict_data[\"WorL\"].append(\"L\")\n",
    "    aces_dict_data[\"aces\"].append(row[\"loser_aces\"])\n",
    "    aces_dict_data[\"male_or_female\"].append(row[\"gender\"])\n",
    "\n",
    "    return aces_dict_data"
   ]
  },
  {
   "cell_type": "code",
   "execution_count": 38,
   "id": "ff6c1188-bc66-4a9c-8735-f8671823e623",
   "metadata": {},
   "outputs": [],
   "source": [
    "# Create the aces dictionary:\n",
    "\n",
    "aces_dict_data = {\"server\":[],\n",
    "                  \"returner\":[],\n",
    "                  \"X\":[],\n",
    "                  \"match_num\":[],\n",
    "                  \"WorL\":[],\n",
    "                  \"aces\":[],\n",
    "                  \"male_or_female\":[]\n",
    "                 }\n",
    "\n",
    "tennis_df.apply(aces_dict_add, axis=1)\n",
    "\n",
    "# Transform the data back into a dataframe with the structure we want:\n",
    "aces_df = pd.DataFrame.from_dict(aces_dict_data)"
   ]
  },
  {
   "cell_type": "markdown",
   "id": "991cf5ee-a3b7-4a0f-9ab7-0b608b5a47d7",
   "metadata": {},
   "source": [
    "## Aces among men and women \n",
    "Male and female tennis players do not play against each other in professional competitions. There are also big differences in the prevalence of aces in mens and women's tennis. Thus, when building a model to predict the number of aces that would occur between two opponents if makes sense to address this difference. \n",
    "\n",
    "In this instance, we will train and test our model on women tennis players. "
   ]
  },
  {
   "cell_type": "code",
   "execution_count": 39,
   "id": "f9daeeef-20d4-4442-966c-125b589fa662",
   "metadata": {},
   "outputs": [
    {
     "data": {
      "text/plain": [
       "(4572, 3)"
      ]
     },
     "execution_count": 39,
     "metadata": {},
     "output_type": "execute_result"
    }
   ],
   "source": [
    "# Select only the female tennis players:\n",
    "\n",
    "aces_df_female = aces_df[aces_df[\"male_or_female\"]==\"female\"][[\"server\",\"returner\",\"aces\"]]\n",
    "aces_df_female.shape"
   ]
  },
  {
   "cell_type": "code",
   "execution_count": 40,
   "id": "1f262cc7-da95-47f2-8c74-b270e3c6c15e",
   "metadata": {},
   "outputs": [],
   "source": [
    "# Handle duplicates by averaging the ratings. \n",
    "# The surprise package expects a unique value for each server/ returner pair:\n",
    "\n",
    "aces_df_female = aces_df_female.groupby([\"server\",\"returner\"])[\"aces\"].mean().reset_index()"
   ]
  },
  {
   "cell_type": "code",
   "execution_count": 41,
   "id": "231fa167-a471-4c89-967d-641c9b2079e0",
   "metadata": {},
   "outputs": [],
   "source": [
    "# Make sure we get rid of aces values that are NaN because this will impact \n",
    "# our model's ability to make predictions\n",
    "\n",
    "aces_df_female = aces_df_female[aces_df_female[\"aces\"].notna()]"
   ]
  },
  {
   "cell_type": "code",
   "execution_count": 42,
   "id": "94180718-ce22-416b-8e14-d28b6be93e02",
   "metadata": {},
   "outputs": [
    {
     "name": "stdout",
     "output_type": "stream",
     "text": [
      "min aces are 0.0 and max aces are 24.0\n"
     ]
    }
   ],
   "source": [
    "# min and max ratings will be used to normalize the ratings later\n",
    "min_aces = min(aces_df_female[\"aces\"])\n",
    "max_aces = max(aces_df_female[\"aces\"])\n",
    "\n",
    "print(f\"min aces are {min_aces} and max aces are {max_aces}\")"
   ]
  },
  {
   "cell_type": "markdown",
   "id": "c885dcce-8034-4de5-9d32-4d875ad2dcfe",
   "metadata": {},
   "source": [
    "## Creating a utility matrix\n",
    "\n",
    "Because I am using the surprise package I need the data to be in a format equivalent to a \"User-Item-Rating Triplet\" which is common to recommender systems. In this case it will be a Server, Returner, Aces triplet. \n",
    "\n",
    "The Surprise library often works with data in the form of triplets: (user, item, rating). Each row represents the number of aces a server achieved in a match against a particular returner."
   ]
  },
  {
   "cell_type": "code",
   "execution_count": 43,
   "id": "3e107d0d-1a25-496b-a047-ec770ec99d8c",
   "metadata": {},
   "outputs": [],
   "source": [
    "# In this step we make sure the data is in the correct format for the surprise package\n",
    "\n",
    "reader = Reader(rating_scale=(0.0, 24.0))\n",
    "surprise_data = Dataset.load_from_df(aces_df_female[[\"server\",\"returner\",\"aces\"]], reader)"
   ]
  },
  {
   "cell_type": "code",
   "execution_count": 44,
   "id": "c8c58694-5aa2-4c11-95b1-623152f6e606",
   "metadata": {},
   "outputs": [],
   "source": [
    "# Divide the surprise data into a trainset and a testset. \n",
    "\n",
    "trainset, testset = train_test_split(surprise_data, test_size=.1, random_state=42)"
   ]
  },
  {
   "cell_type": "code",
   "execution_count": 45,
   "id": "7b3b426f-f85d-4fc9-bd47-cacbc39a4e5f",
   "metadata": {},
   "outputs": [],
   "source": [
    "def add_matches_to_testset(player1, player2):\n",
    "    aces = aces_df_female[(aces_df_female[\"server\"] == player2) & (aces_df_female[\"returner\"] == player1)][\"aces\"].tolist()[0]\n",
    "    output = (player2, player1, aces)\n",
    "    return output"
   ]
  },
  {
   "cell_type": "code",
   "execution_count": 46,
   "id": "22b16704-788f-48b0-b4b7-3731055d6e6d",
   "metadata": {},
   "outputs": [],
   "source": [
    "# find the testset \"matches\" and add them to the testset\n",
    "testset_additions = []\n",
    "for item in testset:\n",
    "    testset_additions.append(add_matches_to_testset(item[0], item[1]))\n",
    "\n",
    "testset += testset_additions"
   ]
  },
  {
   "cell_type": "code",
   "execution_count": 47,
   "id": "d576e253-7a95-461c-a401-0fe530dba53c",
   "metadata": {},
   "outputs": [
    {
     "name": "stdout",
     "output_type": "stream",
     "text": [
      "Evaluating RMSE, MAE of algorithm SVD on 3 split(s).\n",
      "\n",
      "                  Fold 1  Fold 2  Fold 3  Mean    Std     \n",
      "RMSE (testset)    2.5135  2.5240  2.4353  2.4909  0.0395  \n",
      "MAE (testset)     1.8815  1.9262  1.8375  1.8817  0.0362  \n",
      "Fit time          0.01    0.01    0.00    0.01    0.00    \n",
      "Test time         0.01    0.00    0.00    0.00    0.00    \n"
     ]
    },
    {
     "data": {
      "text/plain": [
       "{'test_rmse': array([2.51354281, 2.52395806, 2.43534485]),\n",
       " 'test_mae': array([1.88149804, 1.92615306, 1.83745569]),\n",
       " 'fit_time': (0.007533073425292969,\n",
       "  0.006671905517578125,\n",
       "  0.004078865051269531),\n",
       " 'test_time': (0.006331920623779297,\n",
       "  0.004106998443603516,\n",
       "  0.003287076950073242)}"
      ]
     },
     "execution_count": 47,
     "metadata": {},
     "output_type": "execute_result"
    }
   ],
   "source": [
    "svd = SVD(n_epochs=3)\n",
    "\n",
    "cross_validate(\n",
    "    svd, \n",
    "    surprise_data, \n",
    "    measures=['RMSE', 'MAE'], \n",
    "    cv=3, \n",
    "    verbose=True\n",
    ")"
   ]
  },
  {
   "cell_type": "code",
   "execution_count": 48,
   "id": "11e95a6e-a6b6-451c-91e8-4851fda015bd",
   "metadata": {},
   "outputs": [
    {
     "name": "stdout",
     "output_type": "stream",
     "text": [
      "RMSE: 2.3372\n"
     ]
    },
    {
     "data": {
      "text/plain": [
       "2.337"
      ]
     },
     "execution_count": 48,
     "metadata": {},
     "output_type": "execute_result"
    }
   ],
   "source": [
    "# predicting the test data\n",
    "# NOTE: This is the error associated with predicting the number of aces a particular \n",
    "# server gets when playing agains a particular opponent\n",
    "\n",
    "predictions = svd.test(testset)\n",
    "rmse_ = round(accuracy.rmse(predictions), 3)\n",
    "rmse_"
   ]
  },
  {
   "cell_type": "code",
   "execution_count": 49,
   "id": "24f14db5-06d5-404b-aeb4-d9034eecb959",
   "metadata": {},
   "outputs": [],
   "source": [
    "def generate_ace_prediction(model, server, returner):\n",
    "    pred_set = [(server, returner, 0)] #Establish the data format\n",
    "    prediction = model.test(pred_set)\n",
    "\n",
    "    for pred in prediction:\n",
    "        return pred.est"
   ]
  },
  {
   "cell_type": "code",
   "execution_count": 50,
   "id": "76f5b08a-5a5c-484f-8c1c-1898bc7696a3",
   "metadata": {},
   "outputs": [],
   "source": [
    "def total_match_aces_prediction(player1, player2):\n",
    "    return generate_ace_prediction(svd, player1, player2) + generate_ace_prediction(svd, player2, player1)"
   ]
  },
  {
   "cell_type": "code",
   "execution_count": 51,
   "id": "059027b3-02f7-42ff-a7cd-51751db1a317",
   "metadata": {},
   "outputs": [],
   "source": [
    "## Testing the model:"
   ]
  },
  {
   "cell_type": "code",
   "execution_count": 52,
   "id": "9ad670db-eb81-498b-a5cf-366872ecfc96",
   "metadata": {},
   "outputs": [
    {
     "data": {
      "text/plain": [
       "5.961506345776405"
      ]
     },
     "execution_count": 52,
     "metadata": {},
     "output_type": "execute_result"
    }
   ],
   "source": [
    "total_match_aces_prediction('Misaki Doi', 'Ajla Tomljanovic')"
   ]
  },
  {
   "cell_type": "code",
   "execution_count": 53,
   "id": "a0f3a00c-27b1-41f2-a533-7e09f6ce4639",
   "metadata": {},
   "outputs": [],
   "source": [
    "def total_match_aces_true(player1, player2):\n",
    "    condition1 = ((aces_df_female[\"server\"] == player1) & (aces_df_female[\"returner\"] == player2))\n",
    "    condition2 = ((aces_df_female[\"server\"] == player2) & (aces_df_female[\"returner\"] == player1))\n",
    "    return aces_df_female[condition1 | condition2][\"aces\"].sum()"
   ]
  },
  {
   "cell_type": "code",
   "execution_count": 54,
   "id": "cca45505-7b71-4689-abbc-36ab051908ca",
   "metadata": {},
   "outputs": [
    {
     "data": {
      "text/plain": [
       "7.0"
      ]
     },
     "execution_count": 54,
     "metadata": {},
     "output_type": "execute_result"
    }
   ],
   "source": [
    "total_match_aces_true('Misaki Doi', 'Ajla Tomljanovic')"
   ]
  },
  {
   "cell_type": "code",
   "execution_count": 55,
   "id": "d793ea87-d9a6-491b-87eb-4990ae1eb0c8",
   "metadata": {},
   "outputs": [],
   "source": [
    "def prediction_vs_reality(player1, player2):\n",
    "    pred = total_match_aces_prediction(player1, player2)\n",
    "    true_val = total_match_aces_true(player1, player2)\n",
    "    return f\"The model predicts {pred} aces between these players when in reality there are on average {true_val} aces\""
   ]
  },
  {
   "cell_type": "code",
   "execution_count": 56,
   "id": "26a6fa12-da09-4ee0-b26c-9417f714d6da",
   "metadata": {},
   "outputs": [
    {
     "data": {
      "text/plain": [
       "'The model predicts 5.518324058736841 aces between these players when in reality there are on average 4.0 aces'"
      ]
     },
     "execution_count": 56,
     "metadata": {},
     "output_type": "execute_result"
    }
   ],
   "source": [
    "prediction_vs_reality('Camila Giorgi', 'Iga Swiatek')"
   ]
  },
  {
   "cell_type": "code",
   "execution_count": 34,
   "id": "d0f784d0-de00-4579-8e1d-8dc3bc83ecc0",
   "metadata": {},
   "outputs": [
    {
     "data": {
      "text/html": [
       "<div>\n",
       "<style scoped>\n",
       "    .dataframe tbody tr th:only-of-type {\n",
       "        vertical-align: middle;\n",
       "    }\n",
       "\n",
       "    .dataframe tbody tr th {\n",
       "        vertical-align: top;\n",
       "    }\n",
       "\n",
       "    .dataframe thead th {\n",
       "        text-align: right;\n",
       "    }\n",
       "</style>\n",
       "<table border=\"1\" class=\"dataframe\">\n",
       "  <thead>\n",
       "    <tr style=\"text-align: right;\">\n",
       "      <th></th>\n",
       "      <th>server</th>\n",
       "      <th>returner</th>\n",
       "      <th>aces</th>\n",
       "    </tr>\n",
       "  </thead>\n",
       "  <tbody>\n",
       "    <tr>\n",
       "      <th>816</th>\n",
       "      <td>Camila Giorgi</td>\n",
       "      <td>Iga Swiatek</td>\n",
       "      <td>0.0</td>\n",
       "    </tr>\n",
       "    <tr>\n",
       "      <th>1698</th>\n",
       "      <td>Iga Swiatek</td>\n",
       "      <td>Camila Giorgi</td>\n",
       "      <td>4.0</td>\n",
       "    </tr>\n",
       "  </tbody>\n",
       "</table>\n",
       "</div>"
      ],
      "text/plain": [
       "             server       returner  aces\n",
       "816   Camila Giorgi    Iga Swiatek   0.0\n",
       "1698    Iga Swiatek  Camila Giorgi   4.0"
      ]
     },
     "execution_count": 34,
     "metadata": {},
     "output_type": "execute_result"
    }
   ],
   "source": [
    "player1 = 'Camila Giorgi'\n",
    "player2 = 'Iga Swiatek'\n",
    "\n",
    "condition1 = ((aces_df_female[\"server\"] == player1) & (aces_df_female[\"returner\"] == player2))\n",
    "condition2 = ((aces_df_female[\"server\"] == player2) & (aces_df_female[\"returner\"] == player1))\n",
    "aces_df_female[condition1 | condition2]"
   ]
  },
  {
   "cell_type": "code",
   "execution_count": null,
   "id": "e3667770-882b-4567-9a0c-5d50d659fee5",
   "metadata": {},
   "outputs": [],
   "source": []
  },
  {
   "cell_type": "code",
   "execution_count": null,
   "id": "67447f38-8883-41c3-9134-a8c5a077e29b",
   "metadata": {},
   "outputs": [],
   "source": []
  },
  {
   "cell_type": "code",
   "execution_count": null,
   "id": "04efedec-c20a-4c41-bab0-d4c1af625110",
   "metadata": {},
   "outputs": [],
   "source": []
  },
  {
   "cell_type": "code",
   "execution_count": 19,
   "id": "e3789beb-b31b-4ecd-9e22-254c09047606",
   "metadata": {},
   "outputs": [
    {
     "data": {
      "text/html": [
       "<div>\n",
       "<style scoped>\n",
       "    .dataframe tbody tr th:only-of-type {\n",
       "        vertical-align: middle;\n",
       "    }\n",
       "\n",
       "    .dataframe tbody tr th {\n",
       "        vertical-align: top;\n",
       "    }\n",
       "\n",
       "    .dataframe thead th {\n",
       "        text-align: right;\n",
       "    }\n",
       "</style>\n",
       "<table border=\"1\" class=\"dataframe\">\n",
       "  <thead>\n",
       "    <tr style=\"text-align: right;\">\n",
       "      <th></th>\n",
       "      <th>server</th>\n",
       "      <th>returner</th>\n",
       "      <th>aces</th>\n",
       "    </tr>\n",
       "  </thead>\n",
       "  <tbody>\n",
       "    <tr>\n",
       "      <th>0</th>\n",
       "      <td>Ajla Tomljanovic</td>\n",
       "      <td>Alize Cornet</td>\n",
       "      <td>2.0</td>\n",
       "    </tr>\n",
       "    <tr>\n",
       "      <th>1</th>\n",
       "      <td>Ajla Tomljanovic</td>\n",
       "      <td>Anastasia Pavlyuchenkova</td>\n",
       "      <td>2.0</td>\n",
       "    </tr>\n",
       "    <tr>\n",
       "      <th>2</th>\n",
       "      <td>Ajla Tomljanovic</td>\n",
       "      <td>Anastasija Sevastova</td>\n",
       "      <td>2.0</td>\n",
       "    </tr>\n",
       "    <tr>\n",
       "      <th>3</th>\n",
       "      <td>Ajla Tomljanovic</td>\n",
       "      <td>Anett Kontaveit</td>\n",
       "      <td>3.0</td>\n",
       "    </tr>\n",
       "    <tr>\n",
       "      <th>4</th>\n",
       "      <td>Ajla Tomljanovic</td>\n",
       "      <td>Angelique Kerber</td>\n",
       "      <td>2.0</td>\n",
       "    </tr>\n",
       "  </tbody>\n",
       "</table>\n",
       "</div>"
      ],
      "text/plain": [
       "             server                  returner  aces\n",
       "0  Ajla Tomljanovic              Alize Cornet   2.0\n",
       "1  Ajla Tomljanovic  Anastasia Pavlyuchenkova   2.0\n",
       "2  Ajla Tomljanovic      Anastasija Sevastova   2.0\n",
       "3  Ajla Tomljanovic           Anett Kontaveit   3.0\n",
       "4  Ajla Tomljanovic          Angelique Kerber   2.0"
      ]
     },
     "execution_count": 19,
     "metadata": {},
     "output_type": "execute_result"
    }
   ],
   "source": [
    "aces_df_female.head()"
   ]
  },
  {
   "cell_type": "code",
   "execution_count": 63,
   "id": "d694f93c-d741-4b92-846a-af7b9e76a329",
   "metadata": {},
   "outputs": [
    {
     "data": {
      "text/plain": [
       "server             Sara Bejlek\n",
       "returner    Barbora Krejcikova\n",
       "aces                       0.0\n",
       "Name: 415, dtype: object"
      ]
     },
     "execution_count": 63,
     "metadata": {},
     "output_type": "execute_result"
    }
   ],
   "source": [
    "testset_df = pd.DataFrame(testset, columns=[\"server\",\"returner\",\"aces\"])\n",
    "testset_df.iloc[415]"
   ]
  },
  {
   "cell_type": "code",
   "execution_count": 64,
   "id": "51c6a6f2-5303-46a5-b34e-ad3c5e789198",
   "metadata": {},
   "outputs": [
    {
     "data": {
      "text/html": [
       "<div>\n",
       "<style scoped>\n",
       "    .dataframe tbody tr th:only-of-type {\n",
       "        vertical-align: middle;\n",
       "    }\n",
       "\n",
       "    .dataframe tbody tr th {\n",
       "        vertical-align: top;\n",
       "    }\n",
       "\n",
       "    .dataframe thead th {\n",
       "        text-align: right;\n",
       "    }\n",
       "</style>\n",
       "<table border=\"1\" class=\"dataframe\">\n",
       "  <thead>\n",
       "    <tr style=\"text-align: right;\">\n",
       "      <th></th>\n",
       "      <th>server</th>\n",
       "      <th>returner</th>\n",
       "      <th>aces</th>\n",
       "    </tr>\n",
       "  </thead>\n",
       "  <tbody>\n",
       "    <tr>\n",
       "      <th>0</th>\n",
       "      <td>Barbora Krejcikova</td>\n",
       "      <td>Sara Bejlek</td>\n",
       "      <td>2.0</td>\n",
       "    </tr>\n",
       "    <tr>\n",
       "      <th>1</th>\n",
       "      <td>Tamara Zidansek</td>\n",
       "      <td>Na Lae Han</td>\n",
       "      <td>2.0</td>\n",
       "    </tr>\n",
       "    <tr>\n",
       "      <th>2</th>\n",
       "      <td>Ons Jabeur</td>\n",
       "      <td>Aliaksandra Sasnovich</td>\n",
       "      <td>9.0</td>\n",
       "    </tr>\n",
       "    <tr>\n",
       "      <th>3</th>\n",
       "      <td>Tereza Martincova</td>\n",
       "      <td>Aryna Sabalenka</td>\n",
       "      <td>2.0</td>\n",
       "    </tr>\n",
       "    <tr>\n",
       "      <th>4</th>\n",
       "      <td>Elsa Jacquemot</td>\n",
       "      <td>Lesia Tsurenko</td>\n",
       "      <td>2.0</td>\n",
       "    </tr>\n",
       "  </tbody>\n",
       "</table>\n",
       "</div>"
      ],
      "text/plain": [
       "               server               returner  aces\n",
       "0  Barbora Krejcikova            Sara Bejlek   2.0\n",
       "1     Tamara Zidansek             Na Lae Han   2.0\n",
       "2          Ons Jabeur  Aliaksandra Sasnovich   9.0\n",
       "3   Tereza Martincova        Aryna Sabalenka   2.0\n",
       "4      Elsa Jacquemot         Lesia Tsurenko   2.0"
      ]
     },
     "execution_count": 64,
     "metadata": {},
     "output_type": "execute_result"
    }
   ],
   "source": [
    "testset_df.head()"
   ]
  },
  {
   "cell_type": "code",
   "execution_count": 83,
   "id": "b0bbe6ee-fd25-42db-9374-492edb067475",
   "metadata": {},
   "outputs": [],
   "source": [
    "testset_df_1 = testset_df.iloc[:415]\n",
    "testset_df_2 = testset_df.iloc[415:]\n",
    "testset_df_2 = testset_df_2.rename(columns={\"server\":\"server2\", \"returner\":\"returner2\", \"aces\":\"aces2\"}).reset_index(drop=True)"
   ]
  },
  {
   "cell_type": "code",
   "execution_count": 86,
   "id": "6ba9f4a3-0ffa-4413-b6ee-8581f101d2ff",
   "metadata": {},
   "outputs": [],
   "source": [
    "test = pd.merge(testset_df_1, testset_df_2, left_index=True, right_index=True)\n",
    "test[\"total_aces\"] = test[\"aces\"] + test[\"aces2\"]"
   ]
  },
  {
   "cell_type": "code",
   "execution_count": 87,
   "id": "39e704f8-c71c-414e-9bd2-bc4198bae65d",
   "metadata": {},
   "outputs": [
    {
     "data": {
      "text/html": [
       "<div>\n",
       "<style scoped>\n",
       "    .dataframe tbody tr th:only-of-type {\n",
       "        vertical-align: middle;\n",
       "    }\n",
       "\n",
       "    .dataframe tbody tr th {\n",
       "        vertical-align: top;\n",
       "    }\n",
       "\n",
       "    .dataframe thead th {\n",
       "        text-align: right;\n",
       "    }\n",
       "</style>\n",
       "<table border=\"1\" class=\"dataframe\">\n",
       "  <thead>\n",
       "    <tr style=\"text-align: right;\">\n",
       "      <th></th>\n",
       "      <th>server</th>\n",
       "      <th>returner</th>\n",
       "      <th>aces</th>\n",
       "      <th>server2</th>\n",
       "      <th>returner2</th>\n",
       "      <th>aces2</th>\n",
       "      <th>total_aces</th>\n",
       "    </tr>\n",
       "  </thead>\n",
       "  <tbody>\n",
       "    <tr>\n",
       "      <th>0</th>\n",
       "      <td>Barbora Krejcikova</td>\n",
       "      <td>Sara Bejlek</td>\n",
       "      <td>2.0</td>\n",
       "      <td>Sara Bejlek</td>\n",
       "      <td>Barbora Krejcikova</td>\n",
       "      <td>0.0</td>\n",
       "      <td>2.0</td>\n",
       "    </tr>\n",
       "    <tr>\n",
       "      <th>1</th>\n",
       "      <td>Tamara Zidansek</td>\n",
       "      <td>Na Lae Han</td>\n",
       "      <td>2.0</td>\n",
       "      <td>Na Lae Han</td>\n",
       "      <td>Tamara Zidansek</td>\n",
       "      <td>1.0</td>\n",
       "      <td>3.0</td>\n",
       "    </tr>\n",
       "    <tr>\n",
       "      <th>2</th>\n",
       "      <td>Ons Jabeur</td>\n",
       "      <td>Aliaksandra Sasnovich</td>\n",
       "      <td>9.0</td>\n",
       "      <td>Aliaksandra Sasnovich</td>\n",
       "      <td>Ons Jabeur</td>\n",
       "      <td>1.0</td>\n",
       "      <td>10.0</td>\n",
       "    </tr>\n",
       "    <tr>\n",
       "      <th>3</th>\n",
       "      <td>Tereza Martincova</td>\n",
       "      <td>Aryna Sabalenka</td>\n",
       "      <td>2.0</td>\n",
       "      <td>Aryna Sabalenka</td>\n",
       "      <td>Tereza Martincova</td>\n",
       "      <td>3.0</td>\n",
       "      <td>5.0</td>\n",
       "    </tr>\n",
       "    <tr>\n",
       "      <th>4</th>\n",
       "      <td>Elsa Jacquemot</td>\n",
       "      <td>Lesia Tsurenko</td>\n",
       "      <td>2.0</td>\n",
       "      <td>Lesia Tsurenko</td>\n",
       "      <td>Elsa Jacquemot</td>\n",
       "      <td>0.0</td>\n",
       "      <td>2.0</td>\n",
       "    </tr>\n",
       "  </tbody>\n",
       "</table>\n",
       "</div>"
      ],
      "text/plain": [
       "               server               returner  aces                server2  \\\n",
       "0  Barbora Krejcikova            Sara Bejlek   2.0            Sara Bejlek   \n",
       "1     Tamara Zidansek             Na Lae Han   2.0             Na Lae Han   \n",
       "2          Ons Jabeur  Aliaksandra Sasnovich   9.0  Aliaksandra Sasnovich   \n",
       "3   Tereza Martincova        Aryna Sabalenka   2.0        Aryna Sabalenka   \n",
       "4      Elsa Jacquemot         Lesia Tsurenko   2.0         Lesia Tsurenko   \n",
       "\n",
       "            returner2  aces2  total_aces  \n",
       "0  Barbora Krejcikova    0.0         2.0  \n",
       "1     Tamara Zidansek    1.0         3.0  \n",
       "2          Ons Jabeur    1.0        10.0  \n",
       "3   Tereza Martincova    3.0         5.0  \n",
       "4      Elsa Jacquemot    0.0         2.0  "
      ]
     },
     "execution_count": 87,
     "metadata": {},
     "output_type": "execute_result"
    }
   ],
   "source": [
    "test.head()"
   ]
  },
  {
   "cell_type": "code",
   "execution_count": 90,
   "id": "2612fd63-00a8-4e01-b34f-0cc257c73c1c",
   "metadata": {},
   "outputs": [],
   "source": [
    "def apply_predictor(row):\n",
    "    return total_match_aces_prediction(row[\"server\"], row[\"returner\"])"
   ]
  },
  {
   "cell_type": "code",
   "execution_count": 92,
   "id": "5fc6514a-b1f7-41e6-9008-559317725d6f",
   "metadata": {},
   "outputs": [],
   "source": [
    "test[\"predicted_aces\"] = test.apply(apply_predictor, axis=1)"
   ]
  },
  {
   "cell_type": "code",
   "execution_count": 98,
   "id": "6d94cdb7-eb1a-41db-88b9-aa28b23140b7",
   "metadata": {},
   "outputs": [
    {
     "data": {
      "text/html": [
       "<div>\n",
       "<style scoped>\n",
       "    .dataframe tbody tr th:only-of-type {\n",
       "        vertical-align: middle;\n",
       "    }\n",
       "\n",
       "    .dataframe tbody tr th {\n",
       "        vertical-align: top;\n",
       "    }\n",
       "\n",
       "    .dataframe thead th {\n",
       "        text-align: right;\n",
       "    }\n",
       "</style>\n",
       "<table border=\"1\" class=\"dataframe\">\n",
       "  <thead>\n",
       "    <tr style=\"text-align: right;\">\n",
       "      <th></th>\n",
       "      <th>server</th>\n",
       "      <th>returner</th>\n",
       "      <th>aces</th>\n",
       "      <th>server2</th>\n",
       "      <th>returner2</th>\n",
       "      <th>aces2</th>\n",
       "      <th>total_aces</th>\n",
       "      <th>predicted_aces</th>\n",
       "    </tr>\n",
       "  </thead>\n",
       "  <tbody>\n",
       "    <tr>\n",
       "      <th>0</th>\n",
       "      <td>Barbora Krejcikova</td>\n",
       "      <td>Sara Bejlek</td>\n",
       "      <td>2.000000</td>\n",
       "      <td>Sara Bejlek</td>\n",
       "      <td>Barbora Krejcikova</td>\n",
       "      <td>0.000000</td>\n",
       "      <td>2.000000</td>\n",
       "      <td>5.721427</td>\n",
       "    </tr>\n",
       "    <tr>\n",
       "      <th>1</th>\n",
       "      <td>Tamara Zidansek</td>\n",
       "      <td>Na Lae Han</td>\n",
       "      <td>2.000000</td>\n",
       "      <td>Na Lae Han</td>\n",
       "      <td>Tamara Zidansek</td>\n",
       "      <td>1.000000</td>\n",
       "      <td>3.000000</td>\n",
       "      <td>5.057231</td>\n",
       "    </tr>\n",
       "    <tr>\n",
       "      <th>2</th>\n",
       "      <td>Ons Jabeur</td>\n",
       "      <td>Aliaksandra Sasnovich</td>\n",
       "      <td>9.000000</td>\n",
       "      <td>Aliaksandra Sasnovich</td>\n",
       "      <td>Ons Jabeur</td>\n",
       "      <td>1.000000</td>\n",
       "      <td>10.000000</td>\n",
       "      <td>5.242869</td>\n",
       "    </tr>\n",
       "    <tr>\n",
       "      <th>3</th>\n",
       "      <td>Tereza Martincova</td>\n",
       "      <td>Aryna Sabalenka</td>\n",
       "      <td>2.000000</td>\n",
       "      <td>Aryna Sabalenka</td>\n",
       "      <td>Tereza Martincova</td>\n",
       "      <td>3.000000</td>\n",
       "      <td>5.000000</td>\n",
       "      <td>6.740400</td>\n",
       "    </tr>\n",
       "    <tr>\n",
       "      <th>4</th>\n",
       "      <td>Elsa Jacquemot</td>\n",
       "      <td>Lesia Tsurenko</td>\n",
       "      <td>2.000000</td>\n",
       "      <td>Lesia Tsurenko</td>\n",
       "      <td>Elsa Jacquemot</td>\n",
       "      <td>0.000000</td>\n",
       "      <td>2.000000</td>\n",
       "      <td>4.716881</td>\n",
       "    </tr>\n",
       "    <tr>\n",
       "      <th>5</th>\n",
       "      <td>Claire Liu</td>\n",
       "      <td>Liudmila Samsonova</td>\n",
       "      <td>1.000000</td>\n",
       "      <td>Liudmila Samsonova</td>\n",
       "      <td>Claire Liu</td>\n",
       "      <td>6.000000</td>\n",
       "      <td>7.000000</td>\n",
       "      <td>5.731043</td>\n",
       "    </tr>\n",
       "    <tr>\n",
       "      <th>6</th>\n",
       "      <td>Misaki Doi</td>\n",
       "      <td>Petra Martic</td>\n",
       "      <td>0.000000</td>\n",
       "      <td>Petra Martic</td>\n",
       "      <td>Misaki Doi</td>\n",
       "      <td>2.000000</td>\n",
       "      <td>2.000000</td>\n",
       "      <td>5.670087</td>\n",
       "    </tr>\n",
       "    <tr>\n",
       "      <th>7</th>\n",
       "      <td>Kristina Mladenovic</td>\n",
       "      <td>Anna Karolina Schmiedlova</td>\n",
       "      <td>0.000000</td>\n",
       "      <td>Anna Karolina Schmiedlova</td>\n",
       "      <td>Kristina Mladenovic</td>\n",
       "      <td>1.000000</td>\n",
       "      <td>1.000000</td>\n",
       "      <td>5.435125</td>\n",
       "    </tr>\n",
       "    <tr>\n",
       "      <th>8</th>\n",
       "      <td>Sorana Cirstea</td>\n",
       "      <td>Johanna Konta</td>\n",
       "      <td>4.000000</td>\n",
       "      <td>Johanna Konta</td>\n",
       "      <td>Sorana Cirstea</td>\n",
       "      <td>3.500000</td>\n",
       "      <td>7.500000</td>\n",
       "      <td>5.858589</td>\n",
       "    </tr>\n",
       "    <tr>\n",
       "      <th>9</th>\n",
       "      <td>Bianca Andreescu</td>\n",
       "      <td>Viktorija Golubic</td>\n",
       "      <td>7.000000</td>\n",
       "      <td>Viktorija Golubic</td>\n",
       "      <td>Bianca Andreescu</td>\n",
       "      <td>0.000000</td>\n",
       "      <td>7.000000</td>\n",
       "      <td>5.189300</td>\n",
       "    </tr>\n",
       "    <tr>\n",
       "      <th>10</th>\n",
       "      <td>Rebecca Peterson</td>\n",
       "      <td>Iga Swiatek</td>\n",
       "      <td>0.333333</td>\n",
       "      <td>Iga Swiatek</td>\n",
       "      <td>Rebecca Peterson</td>\n",
       "      <td>2.333333</td>\n",
       "      <td>2.666667</td>\n",
       "      <td>5.157848</td>\n",
       "    </tr>\n",
       "    <tr>\n",
       "      <th>11</th>\n",
       "      <td>Anastasia Pavlyuchenkova</td>\n",
       "      <td>Ajla Tomljanovic</td>\n",
       "      <td>3.000000</td>\n",
       "      <td>Ajla Tomljanovic</td>\n",
       "      <td>Anastasia Pavlyuchenkova</td>\n",
       "      <td>2.000000</td>\n",
       "      <td>5.000000</td>\n",
       "      <td>6.017265</td>\n",
       "    </tr>\n",
       "    <tr>\n",
       "      <th>12</th>\n",
       "      <td>Kaja Juvan</td>\n",
       "      <td>Sorana Cirstea</td>\n",
       "      <td>0.000000</td>\n",
       "      <td>Sorana Cirstea</td>\n",
       "      <td>Kaja Juvan</td>\n",
       "      <td>0.000000</td>\n",
       "      <td>0.000000</td>\n",
       "      <td>4.496401</td>\n",
       "    </tr>\n",
       "    <tr>\n",
       "      <th>13</th>\n",
       "      <td>Rebecca Peterson</td>\n",
       "      <td>Shelby Rogers</td>\n",
       "      <td>0.000000</td>\n",
       "      <td>Shelby Rogers</td>\n",
       "      <td>Rebecca Peterson</td>\n",
       "      <td>3.000000</td>\n",
       "      <td>3.000000</td>\n",
       "      <td>5.321926</td>\n",
       "    </tr>\n",
       "    <tr>\n",
       "      <th>14</th>\n",
       "      <td>Jana Cepelova</td>\n",
       "      <td>Su Wei Hsieh</td>\n",
       "      <td>1.000000</td>\n",
       "      <td>Su Wei Hsieh</td>\n",
       "      <td>Jana Cepelova</td>\n",
       "      <td>1.000000</td>\n",
       "      <td>2.000000</td>\n",
       "      <td>5.253952</td>\n",
       "    </tr>\n",
       "    <tr>\n",
       "      <th>15</th>\n",
       "      <td>Lin Zhu</td>\n",
       "      <td>Jil Teichmann</td>\n",
       "      <td>0.000000</td>\n",
       "      <td>Jil Teichmann</td>\n",
       "      <td>Lin Zhu</td>\n",
       "      <td>2.000000</td>\n",
       "      <td>2.000000</td>\n",
       "      <td>5.225537</td>\n",
       "    </tr>\n",
       "    <tr>\n",
       "      <th>16</th>\n",
       "      <td>Aryna Sabalenka</td>\n",
       "      <td>Viktoria Kuzmova</td>\n",
       "      <td>2.000000</td>\n",
       "      <td>Viktoria Kuzmova</td>\n",
       "      <td>Aryna Sabalenka</td>\n",
       "      <td>2.000000</td>\n",
       "      <td>4.000000</td>\n",
       "      <td>7.080648</td>\n",
       "    </tr>\n",
       "    <tr>\n",
       "      <th>17</th>\n",
       "      <td>Sara Sorribes Tormo</td>\n",
       "      <td>Xin Yu Wang</td>\n",
       "      <td>0.000000</td>\n",
       "      <td>Xin Yu Wang</td>\n",
       "      <td>Sara Sorribes Tormo</td>\n",
       "      <td>6.000000</td>\n",
       "      <td>6.000000</td>\n",
       "      <td>4.361461</td>\n",
       "    </tr>\n",
       "    <tr>\n",
       "      <th>18</th>\n",
       "      <td>Kiki Bertens</td>\n",
       "      <td>Julia Goerges</td>\n",
       "      <td>2.000000</td>\n",
       "      <td>Julia Goerges</td>\n",
       "      <td>Kiki Bertens</td>\n",
       "      <td>5.000000</td>\n",
       "      <td>7.000000</td>\n",
       "      <td>5.799590</td>\n",
       "    </tr>\n",
       "    <tr>\n",
       "      <th>19</th>\n",
       "      <td>Kamilla Rakhimova</td>\n",
       "      <td>Magdalena Frech</td>\n",
       "      <td>1.000000</td>\n",
       "      <td>Magdalena Frech</td>\n",
       "      <td>Kamilla Rakhimova</td>\n",
       "      <td>2.000000</td>\n",
       "      <td>3.000000</td>\n",
       "      <td>5.489488</td>\n",
       "    </tr>\n",
       "  </tbody>\n",
       "</table>\n",
       "</div>"
      ],
      "text/plain": [
       "                      server                   returner      aces  \\\n",
       "0         Barbora Krejcikova                Sara Bejlek  2.000000   \n",
       "1            Tamara Zidansek                 Na Lae Han  2.000000   \n",
       "2                 Ons Jabeur      Aliaksandra Sasnovich  9.000000   \n",
       "3          Tereza Martincova            Aryna Sabalenka  2.000000   \n",
       "4             Elsa Jacquemot             Lesia Tsurenko  2.000000   \n",
       "5                 Claire Liu         Liudmila Samsonova  1.000000   \n",
       "6                 Misaki Doi               Petra Martic  0.000000   \n",
       "7        Kristina Mladenovic  Anna Karolina Schmiedlova  0.000000   \n",
       "8             Sorana Cirstea              Johanna Konta  4.000000   \n",
       "9           Bianca Andreescu          Viktorija Golubic  7.000000   \n",
       "10          Rebecca Peterson                Iga Swiatek  0.333333   \n",
       "11  Anastasia Pavlyuchenkova           Ajla Tomljanovic  3.000000   \n",
       "12                Kaja Juvan             Sorana Cirstea  0.000000   \n",
       "13          Rebecca Peterson              Shelby Rogers  0.000000   \n",
       "14             Jana Cepelova               Su Wei Hsieh  1.000000   \n",
       "15                   Lin Zhu              Jil Teichmann  0.000000   \n",
       "16           Aryna Sabalenka           Viktoria Kuzmova  2.000000   \n",
       "17       Sara Sorribes Tormo                Xin Yu Wang  0.000000   \n",
       "18              Kiki Bertens              Julia Goerges  2.000000   \n",
       "19         Kamilla Rakhimova            Magdalena Frech  1.000000   \n",
       "\n",
       "                      server2                 returner2     aces2  total_aces  \\\n",
       "0                 Sara Bejlek        Barbora Krejcikova  0.000000    2.000000   \n",
       "1                  Na Lae Han           Tamara Zidansek  1.000000    3.000000   \n",
       "2       Aliaksandra Sasnovich                Ons Jabeur  1.000000   10.000000   \n",
       "3             Aryna Sabalenka         Tereza Martincova  3.000000    5.000000   \n",
       "4              Lesia Tsurenko            Elsa Jacquemot  0.000000    2.000000   \n",
       "5          Liudmila Samsonova                Claire Liu  6.000000    7.000000   \n",
       "6                Petra Martic                Misaki Doi  2.000000    2.000000   \n",
       "7   Anna Karolina Schmiedlova       Kristina Mladenovic  1.000000    1.000000   \n",
       "8               Johanna Konta            Sorana Cirstea  3.500000    7.500000   \n",
       "9           Viktorija Golubic          Bianca Andreescu  0.000000    7.000000   \n",
       "10                Iga Swiatek          Rebecca Peterson  2.333333    2.666667   \n",
       "11           Ajla Tomljanovic  Anastasia Pavlyuchenkova  2.000000    5.000000   \n",
       "12             Sorana Cirstea                Kaja Juvan  0.000000    0.000000   \n",
       "13              Shelby Rogers          Rebecca Peterson  3.000000    3.000000   \n",
       "14               Su Wei Hsieh             Jana Cepelova  1.000000    2.000000   \n",
       "15              Jil Teichmann                   Lin Zhu  2.000000    2.000000   \n",
       "16           Viktoria Kuzmova           Aryna Sabalenka  2.000000    4.000000   \n",
       "17                Xin Yu Wang       Sara Sorribes Tormo  6.000000    6.000000   \n",
       "18              Julia Goerges              Kiki Bertens  5.000000    7.000000   \n",
       "19            Magdalena Frech         Kamilla Rakhimova  2.000000    3.000000   \n",
       "\n",
       "    predicted_aces  \n",
       "0         5.721427  \n",
       "1         5.057231  \n",
       "2         5.242869  \n",
       "3         6.740400  \n",
       "4         4.716881  \n",
       "5         5.731043  \n",
       "6         5.670087  \n",
       "7         5.435125  \n",
       "8         5.858589  \n",
       "9         5.189300  \n",
       "10        5.157848  \n",
       "11        6.017265  \n",
       "12        4.496401  \n",
       "13        5.321926  \n",
       "14        5.253952  \n",
       "15        5.225537  \n",
       "16        7.080648  \n",
       "17        4.361461  \n",
       "18        5.799590  \n",
       "19        5.489488  "
      ]
     },
     "execution_count": 98,
     "metadata": {},
     "output_type": "execute_result"
    }
   ],
   "source": [
    "test.head(20)"
   ]
  },
  {
   "cell_type": "code",
   "execution_count": 96,
   "id": "5b421de2-74d7-4dd1-a212-314a46ab420d",
   "metadata": {},
   "outputs": [],
   "source": [
    "from sklearn.metrics import mean_squared_error\n",
    "import numpy as np"
   ]
  },
  {
   "cell_type": "code",
   "execution_count": 97,
   "id": "e7f0c192-a1f2-4fc6-a662-b1b81ecde0a7",
   "metadata": {},
   "outputs": [
    {
     "data": {
      "text/plain": [
       "3.5019261067572147"
      ]
     },
     "execution_count": 97,
     "metadata": {},
     "output_type": "execute_result"
    }
   ],
   "source": [
    "MSE = mean_squared_error(test[\"total_aces\"], test[\"predicted_aces\"])\n",
    "RMSE = np.sqrt(MSE)\n",
    "RMSE"
   ]
  },
  {
   "cell_type": "code",
   "execution_count": 100,
   "id": "7f9e1024-a30f-4042-9f4c-8ffbb94d2c97",
   "metadata": {},
   "outputs": [
    {
     "data": {
      "text/plain": [
       "5.150602409638554"
      ]
     },
     "execution_count": 100,
     "metadata": {},
     "output_type": "execute_result"
    }
   ],
   "source": [
    "average_aces = test[\"total_aces\"].mean()\n",
    "average_aces"
   ]
  },
  {
   "cell_type": "code",
   "execution_count": 102,
   "id": "0672906b-eda3-47e6-9ce4-1f1da25245c9",
   "metadata": {},
   "outputs": [],
   "source": [
    "average_aces_list = [average_aces] * 415"
   ]
  },
  {
   "cell_type": "code",
   "execution_count": 104,
   "id": "2e0d11d0-623c-46ae-a38b-0fa813621320",
   "metadata": {},
   "outputs": [
    {
     "data": {
      "text/plain": [
       "3.876612197146171"
      ]
     },
     "execution_count": 104,
     "metadata": {},
     "output_type": "execute_result"
    }
   ],
   "source": [
    "# BASELINE COMPARISON:\n",
    "MSE_baseline = mean_squared_error(test[\"total_aces\"], average_aces_list)\n",
    "RMSE_baseline = np.sqrt(MSE_baseline)\n",
    "RMSE_baseline"
   ]
  },
  {
   "cell_type": "code",
   "execution_count": null,
   "id": "669305c5-37b8-4e1e-91bc-f32eed04c3f9",
   "metadata": {},
   "outputs": [],
   "source": []
  }
 ],
 "metadata": {
  "kernelspec": {
   "display_name": "Python 3 (ipykernel)",
   "language": "python",
   "name": "python3"
  },
  "language_info": {
   "codemirror_mode": {
    "name": "ipython",
    "version": 3
   },
   "file_extension": ".py",
   "mimetype": "text/x-python",
   "name": "python",
   "nbconvert_exporter": "python",
   "pygments_lexer": "ipython3",
   "version": "3.11.7"
  }
 },
 "nbformat": 4,
 "nbformat_minor": 5
}
