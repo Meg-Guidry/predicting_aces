{
 "cells": [
  {
   "cell_type": "code",
   "execution_count": 11,
   "id": "136a0607-6ab3-4d2a-b131-88ef07282e09",
   "metadata": {},
   "outputs": [],
   "source": [
    "import pandas as pd\n",
    "import numpy as np\n",
    "from sklearn.metrics import mean_squared_error\n",
    "import seaborn as sns\n",
    "import matplotlib.pyplot as plt\n",
    "\n",
    "from surprise.reader import Reader\n",
    "from surprise.dataset import Dataset\n",
    "from surprise.model_selection import train_test_split\n",
    "from surprise import SVD\n",
    "from surprise.model_selection.validation import cross_validate\n",
    "from surprise import accuracy"
   ]
  },
  {
   "cell_type": "code",
   "execution_count": 12,
   "id": "287e5473-ba13-4ba7-99fb-118c69e6aa9d",
   "metadata": {},
   "outputs": [],
   "source": [
    "# Reading the original data file\n",
    "tennis_df = pd.read_excel(\"tennis.xlsx\")"
   ]
  },
  {
   "cell_type": "code",
   "execution_count": 13,
   "id": "feac03a1-8178-4a94-899b-bdb3d44985a0",
   "metadata": {},
   "outputs": [],
   "source": [
    "# Create aces dictionary function. \n",
    "# This function will be used to reformat the original data.\n",
    "# We want a separate row for each server instead of a seperate row for each match\n",
    "\n",
    "def aces_dict_add(row):\n",
    "    aces_dict_data[\"server\"].append(row[\"winner_name\"])\n",
    "    aces_dict_data[\"returner\"].append(row[\"loser_name\"])\n",
    "    aces_dict_data[\"X\"].append(row[\"X\"])\n",
    "    aces_dict_data[\"match_num\"].append(row[\"match_num\"])\n",
    "    aces_dict_data[\"WorL\"].append(\"W\")\n",
    "    aces_dict_data[\"aces\"].append(row[\"winner_aces\"])\n",
    "    aces_dict_data[\"male_or_female\"].append(row[\"gender\"])\n",
    "\n",
    "    aces_dict_data[\"server\"].append(row[\"loser_name\"])\n",
    "    aces_dict_data[\"returner\"].append(row[\"winner_name\"])\n",
    "    aces_dict_data[\"X\"].append(row[\"X\"])\n",
    "    aces_dict_data[\"match_num\"].append(row[\"match_num\"])\n",
    "    aces_dict_data[\"WorL\"].append(\"L\")\n",
    "    aces_dict_data[\"aces\"].append(row[\"loser_aces\"])\n",
    "    aces_dict_data[\"male_or_female\"].append(row[\"gender\"])\n",
    "\n",
    "    return aces_dict_data"
   ]
  },
  {
   "cell_type": "code",
   "execution_count": 14,
   "id": "ff6c1188-bc66-4a9c-8735-f8671823e623",
   "metadata": {},
   "outputs": [],
   "source": [
    "# Create the aces dictionary:\n",
    "\n",
    "aces_dict_data = {\"server\":[],\n",
    "                  \"returner\":[],\n",
    "                  \"X\":[],\n",
    "                  \"match_num\":[],\n",
    "                  \"WorL\":[],\n",
    "                  \"aces\":[],\n",
    "                  \"male_or_female\":[]\n",
    "                 }\n",
    "\n",
    "tennis_df.apply(aces_dict_add, axis=1)\n",
    "\n",
    "# Transform the data back into a dataframe with the structure we want:\n",
    "aces_df = pd.DataFrame.from_dict(aces_dict_data)"
   ]
  },
  {
   "cell_type": "markdown",
   "id": "991cf5ee-a3b7-4a0f-9ab7-0b608b5a47d7",
   "metadata": {},
   "source": [
    "## Aces among men and women \n",
    "Male and female tennis players do not play against each other in professional competitions. There are also big differences in the prevalence of aces in mens and women's tennis. Thus, when building a model to predict the number of aces that would occur between two opponents if makes sense to account for this difference. \n",
    "\n",
    "In this instance, we will train and test our model on male tennis players. "
   ]
  },
  {
   "cell_type": "code",
   "execution_count": 15,
   "id": "f9daeeef-20d4-4442-966c-125b589fa662",
   "metadata": {},
   "outputs": [],
   "source": [
    "# Select only the male tennis players:\n",
    "aces_df_male = aces_df[aces_df[\"male_or_female\"]==\"male\"][[\"server\",\"returner\",\"aces\"]]"
   ]
  },
  {
   "cell_type": "code",
   "execution_count": 16,
   "id": "231fa167-a471-4c89-967d-641c9b2079e0",
   "metadata": {},
   "outputs": [],
   "source": [
    "# Make sure we get rid of aces values that are NaN because this will impact \n",
    "# our model's ability to make predictions\n",
    "\n",
    "aces_df_male = aces_df_male[aces_df_male[\"aces\"].notna()]"
   ]
  },
  {
   "cell_type": "markdown",
   "id": "1f86566d-1137-4c85-9f33-6e60af0e640f",
   "metadata": {},
   "source": [
    "## Handling duplicate server/returner pairs\n",
    "\n",
    "It is important to remove duplicate server/returner pairs by calculating the averate\n",
    "number of aces that the server achieves agains a particular opponent. do this because the surprise package expects a unique value \n",
    "for each server/ returner pair:"
   ]
  },
  {
   "cell_type": "code",
   "execution_count": 17,
   "id": "1f262cc7-da95-47f2-8c74-b270e3c6c15e",
   "metadata": {},
   "outputs": [],
   "source": [
    "# Handle duplicates server/returner pairs by averaging the ratings.\n",
    "aces_df_male = aces_df_male.groupby([\"server\",\"returner\"])[\"aces\"].mean().reset_index()"
   ]
  },
  {
   "cell_type": "code",
   "execution_count": 18,
   "id": "94180718-ce22-416b-8e14-d28b6be93e02",
   "metadata": {},
   "outputs": [
    {
     "name": "stdout",
     "output_type": "stream",
     "text": [
      "min aces are 0.0 and max aces are 54.0\n"
     ]
    }
   ],
   "source": [
    "# min and max ratings will be used to normalize the ratings later:\n",
    "min_aces = min(aces_df_male[\"aces\"])\n",
    "max_aces = max(aces_df_male[\"aces\"])\n",
    "\n",
    "print(f\"min aces are {min_aces} and max aces are {max_aces}\")"
   ]
  },
  {
   "cell_type": "markdown",
   "id": "c885dcce-8034-4de5-9d32-4d875ad2dcfe",
   "metadata": {},
   "source": [
    "## Creating a utility matrix\n",
    "\n",
    "Because I am using the surprise package I need the data to be in a format equivalent to a \"User-Item-Rating Triplet\" which is common to recommender systems. In this case it will be a Server, Returner, Aces triplet. \n",
    "\n",
    "The Surprise library often works with data in the form of triplets: (user, item, rating). Each row represents the number of aces a server achieved in a match against a particular returner."
   ]
  },
  {
   "cell_type": "code",
   "execution_count": 20,
   "id": "3e107d0d-1a25-496b-a047-ec770ec99d8c",
   "metadata": {},
   "outputs": [],
   "source": [
    "# In this step we make sure the data is in the correct format for the surprise package\n",
    "reader = Reader(rating_scale=(min_aces, max_aces))\n",
    "surprise_data = Dataset.load_from_df(aces_df_male[[\"server\",\"returner\",\"aces\"]], reader)"
   ]
  },
  {
   "cell_type": "code",
   "execution_count": 21,
   "id": "c8c58694-5aa2-4c11-95b1-623152f6e606",
   "metadata": {},
   "outputs": [],
   "source": [
    "# Divide the surprise data into a trainset and a testset. \n",
    "trainset, testset = train_test_split(surprise_data, test_size=.1, random_state=42)"
   ]
  },
  {
   "cell_type": "code",
   "execution_count": 22,
   "id": "7b3b426f-f85d-4fc9-bd47-cacbc39a4e5f",
   "metadata": {},
   "outputs": [],
   "source": [
    "def add_matches_to_testset(player1, player2):\n",
    "    aces = aces_df_male[(aces_df_male[\"server\"] == player2) & (aces_df_male[\"returner\"] == player1)][\"aces\"].tolist()[0]\n",
    "    output = (player2, player1, aces)\n",
    "    return output"
   ]
  },
  {
   "cell_type": "code",
   "execution_count": 23,
   "id": "22b16704-788f-48b0-b4b7-3731055d6e6d",
   "metadata": {},
   "outputs": [],
   "source": [
    "# find the testset \"matches\" and add them to the testset\n",
    "testset_additions = []\n",
    "for item in testset:\n",
    "    testset_additions.append(add_matches_to_testset(item[0], item[1]))\n",
    "\n",
    "testset += testset_additions"
   ]
  },
  {
   "cell_type": "code",
   "execution_count": 24,
   "id": "d576e253-7a95-461c-a401-0fe530dba53c",
   "metadata": {},
   "outputs": [
    {
     "name": "stdout",
     "output_type": "stream",
     "text": [
      "Evaluating RMSE, MAE of algorithm SVD on 3 split(s).\n",
      "\n",
      "                  Fold 1  Fold 2  Fold 3  Mean    Std     \n",
      "RMSE (testset)    6.1490  5.9714  6.1070  6.0758  0.0758  \n",
      "MAE (testset)     4.6122  4.5610  4.6629  4.6120  0.0416  \n",
      "Fit time          0.01    0.01    0.00    0.01    0.00    \n",
      "Test time         0.01    0.00    0.00    0.00    0.00    \n"
     ]
    },
    {
     "data": {
      "text/plain": [
       "{'test_rmse': array([6.14902088, 5.97139194, 6.10695331]),\n",
       " 'test_mae': array([4.61223614, 4.56096555, 4.66289742]),\n",
       " 'fit_time': (0.008154869079589844,\n",
       "  0.0059010982513427734,\n",
       "  0.003772735595703125),\n",
       " 'test_time': (0.005533933639526367,\n",
       "  0.003701925277709961,\n",
       "  0.003014087677001953)}"
      ]
     },
     "execution_count": 24,
     "metadata": {},
     "output_type": "execute_result"
    }
   ],
   "source": [
    "svd = SVD(n_epochs=3)\n",
    "\n",
    "cross_validate(\n",
    "    svd, \n",
    "    surprise_data, \n",
    "    measures=['RMSE', 'MAE'], \n",
    "    cv=3, \n",
    "    verbose=True\n",
    ")"
   ]
  },
  {
   "cell_type": "markdown",
   "id": "61e1abb7-735e-4de3-804e-e188e56bae55",
   "metadata": {},
   "source": [
    "## predicting the number of aces a server achieves against a particular opponent:"
   ]
  },
  {
   "cell_type": "code",
   "execution_count": 25,
   "id": "11e95a6e-a6b6-451c-91e8-4851fda015bd",
   "metadata": {},
   "outputs": [
    {
     "name": "stdout",
     "output_type": "stream",
     "text": [
      "RMSE: 5.8346\n"
     ]
    },
    {
     "data": {
      "text/plain": [
       "5.835"
      ]
     },
     "execution_count": 25,
     "metadata": {},
     "output_type": "execute_result"
    }
   ],
   "source": [
    "# NOTE: This is the error associated with predicting the number of aces a particular \n",
    "# server gets when playing agains a particular opponent\n",
    "\n",
    "predictions = svd.test(testset)\n",
    "rmse_ = round(accuracy.rmse(predictions), 3)\n",
    "rmse_"
   ]
  },
  {
   "cell_type": "code",
   "execution_count": 29,
   "id": "24f14db5-06d5-404b-aeb4-d9034eecb959",
   "metadata": {},
   "outputs": [],
   "source": [
    "def generate_ace_prediction(model, server, returner):\n",
    "    \"\"\"\n",
    "    Generates predictions with the SVD model.\n",
    "    \"\"\"\n",
    "    pred_set = [(server, returner, 0)] #Establish the data format\n",
    "    prediction = model.test(pred_set)\n",
    "\n",
    "    for pred in prediction:\n",
    "        return pred.est"
   ]
  },
  {
   "cell_type": "code",
   "execution_count": 30,
   "id": "76f5b08a-5a5c-484f-8c1c-1898bc7696a3",
   "metadata": {},
   "outputs": [],
   "source": [
    "def total_match_aces_prediction(player1, player2):\n",
    "    return generate_ace_prediction(svd, player1, player2) + generate_ace_prediction(svd, player2, player1)"
   ]
  },
  {
   "cell_type": "code",
   "execution_count": 31,
   "id": "059027b3-02f7-42ff-a7cd-51751db1a317",
   "metadata": {},
   "outputs": [],
   "source": [
    "## Testing the model:"
   ]
  },
  {
   "cell_type": "code",
   "execution_count": 32,
   "id": "a0f3a00c-27b1-41f2-a533-7e09f6ce4639",
   "metadata": {},
   "outputs": [],
   "source": [
    "def total_match_aces_true(player1, player2):\n",
    "    condition1 = ((aces_df_male[\"server\"] == player1) & (aces_df_male[\"returner\"] == player2))\n",
    "    condition2 = ((aces_df_male[\"server\"] == player2) & (aces_df_male[\"returner\"] == player1))\n",
    "    return aces_df_male[condition1 | condition2][\"aces\"].sum()"
   ]
  },
  {
   "cell_type": "code",
   "execution_count": 33,
   "id": "d793ea87-d9a6-491b-87eb-4990ae1eb0c8",
   "metadata": {},
   "outputs": [],
   "source": [
    "def prediction_vs_reality(player1, player2):\n",
    "    pred = total_match_aces_prediction(player1, player2)\n",
    "    true_val = total_match_aces_true(player1, player2)\n",
    "    return f\"The model predicts {pred} aces between these players when in reality there are on average {true_val} aces\""
   ]
  },
  {
   "cell_type": "code",
   "execution_count": null,
   "id": "e3667770-882b-4567-9a0c-5d50d659fee5",
   "metadata": {},
   "outputs": [],
   "source": []
  },
  {
   "cell_type": "code",
   "execution_count": null,
   "id": "67447f38-8883-41c3-9134-a8c5a077e29b",
   "metadata": {},
   "outputs": [],
   "source": []
  },
  {
   "cell_type": "code",
   "execution_count": null,
   "id": "04efedec-c20a-4c41-bab0-d4c1af625110",
   "metadata": {},
   "outputs": [],
   "source": []
  },
  {
   "cell_type": "code",
   "execution_count": 20,
   "id": "e3789beb-b31b-4ecd-9e22-254c09047606",
   "metadata": {},
   "outputs": [
    {
     "data": {
      "text/html": [
       "<div>\n",
       "<style scoped>\n",
       "    .dataframe tbody tr th:only-of-type {\n",
       "        vertical-align: middle;\n",
       "    }\n",
       "\n",
       "    .dataframe tbody tr th {\n",
       "        vertical-align: top;\n",
       "    }\n",
       "\n",
       "    .dataframe thead th {\n",
       "        text-align: right;\n",
       "    }\n",
       "</style>\n",
       "<table border=\"1\" class=\"dataframe\">\n",
       "  <thead>\n",
       "    <tr style=\"text-align: right;\">\n",
       "      <th></th>\n",
       "      <th>server</th>\n",
       "      <th>returner</th>\n",
       "      <th>aces</th>\n",
       "    </tr>\n",
       "  </thead>\n",
       "  <tbody>\n",
       "    <tr>\n",
       "      <th>0</th>\n",
       "      <td>Adrian Mannarino</td>\n",
       "      <td>Albert Ramos</td>\n",
       "      <td>2.0</td>\n",
       "    </tr>\n",
       "    <tr>\n",
       "      <th>1</th>\n",
       "      <td>Adrian Mannarino</td>\n",
       "      <td>Alex De Minaur</td>\n",
       "      <td>2.0</td>\n",
       "    </tr>\n",
       "    <tr>\n",
       "      <th>2</th>\n",
       "      <td>Adrian Mannarino</td>\n",
       "      <td>Alexander Shevchenko</td>\n",
       "      <td>9.0</td>\n",
       "    </tr>\n",
       "    <tr>\n",
       "      <th>3</th>\n",
       "      <td>Adrian Mannarino</td>\n",
       "      <td>Alexander Zverev</td>\n",
       "      <td>4.0</td>\n",
       "    </tr>\n",
       "    <tr>\n",
       "      <th>4</th>\n",
       "      <td>Adrian Mannarino</td>\n",
       "      <td>Aljaz Bedene</td>\n",
       "      <td>8.0</td>\n",
       "    </tr>\n",
       "  </tbody>\n",
       "</table>\n",
       "</div>"
      ],
      "text/plain": [
       "             server              returner  aces\n",
       "0  Adrian Mannarino          Albert Ramos   2.0\n",
       "1  Adrian Mannarino        Alex De Minaur   2.0\n",
       "2  Adrian Mannarino  Alexander Shevchenko   9.0\n",
       "3  Adrian Mannarino      Alexander Zverev   4.0\n",
       "4  Adrian Mannarino          Aljaz Bedene   8.0"
      ]
     },
     "execution_count": 20,
     "metadata": {},
     "output_type": "execute_result"
    }
   ],
   "source": [
    "aces_df_male.head()"
   ]
  },
  {
   "cell_type": "code",
   "execution_count": 34,
   "id": "d694f93c-d741-4b92-846a-af7b9e76a329",
   "metadata": {},
   "outputs": [
    {
     "data": {
      "text/plain": [
       "(824, 3)"
      ]
     },
     "execution_count": 34,
     "metadata": {},
     "output_type": "execute_result"
    }
   ],
   "source": [
    "testset_df = pd.DataFrame(testset, columns=[\"server\",\"returner\",\"aces\"])\n",
    "testset_df.shape"
   ]
  },
  {
   "cell_type": "code",
   "execution_count": 37,
   "id": "b286bfb5-ed40-4ef2-8920-cdfe4717845a",
   "metadata": {},
   "outputs": [],
   "source": [
    "def apply_server_predictor(row):\n",
    "    return generate_ace_prediction(svd, row[\"server\"], row[\"returner\"])"
   ]
  },
  {
   "cell_type": "code",
   "execution_count": 40,
   "id": "df3bf909-158c-4281-ae10-7798636a1f33",
   "metadata": {},
   "outputs": [],
   "source": [
    "testset_df[\"server_aces_prediction\"] = testset_df.apply(apply_server_predictor, axis=1)"
   ]
  },
  {
   "cell_type": "code",
   "execution_count": 42,
   "id": "6b093f3a-4f41-4145-89a3-0d3c9f63b1b2",
   "metadata": {},
   "outputs": [
    {
     "data": {
      "text/html": [
       "<div>\n",
       "<style scoped>\n",
       "    .dataframe tbody tr th:only-of-type {\n",
       "        vertical-align: middle;\n",
       "    }\n",
       "\n",
       "    .dataframe tbody tr th {\n",
       "        vertical-align: top;\n",
       "    }\n",
       "\n",
       "    .dataframe thead th {\n",
       "        text-align: right;\n",
       "    }\n",
       "</style>\n",
       "<table border=\"1\" class=\"dataframe\">\n",
       "  <thead>\n",
       "    <tr style=\"text-align: right;\">\n",
       "      <th></th>\n",
       "      <th>server</th>\n",
       "      <th>returner</th>\n",
       "      <th>aces</th>\n",
       "      <th>server_aces_prediction</th>\n",
       "    </tr>\n",
       "  </thead>\n",
       "  <tbody>\n",
       "    <tr>\n",
       "      <th>0</th>\n",
       "      <td>Alexander Zverev</td>\n",
       "      <td>Fabio Fognini</td>\n",
       "      <td>14.0</td>\n",
       "      <td>11.040451</td>\n",
       "    </tr>\n",
       "    <tr>\n",
       "      <th>1</th>\n",
       "      <td>Jiri Lehecka</td>\n",
       "      <td>Francisco Cerundolo</td>\n",
       "      <td>6.0</td>\n",
       "      <td>7.639405</td>\n",
       "    </tr>\n",
       "    <tr>\n",
       "      <th>2</th>\n",
       "      <td>Reilly Opelka</td>\n",
       "      <td>Cedrik Marcel Stebe</td>\n",
       "      <td>11.0</td>\n",
       "      <td>10.628500</td>\n",
       "    </tr>\n",
       "    <tr>\n",
       "      <th>3</th>\n",
       "      <td>Hugo Dellien</td>\n",
       "      <td>Alex De Minaur</td>\n",
       "      <td>4.0</td>\n",
       "      <td>6.721706</td>\n",
       "    </tr>\n",
       "    <tr>\n",
       "      <th>4</th>\n",
       "      <td>Lorenzo Sonego</td>\n",
       "      <td>Emilio Gomez</td>\n",
       "      <td>5.0</td>\n",
       "      <td>8.658241</td>\n",
       "    </tr>\n",
       "  </tbody>\n",
       "</table>\n",
       "</div>"
      ],
      "text/plain": [
       "             server             returner  aces  server_aces_prediction\n",
       "0  Alexander Zverev        Fabio Fognini  14.0               11.040451\n",
       "1      Jiri Lehecka  Francisco Cerundolo   6.0                7.639405\n",
       "2     Reilly Opelka  Cedrik Marcel Stebe  11.0               10.628500\n",
       "3      Hugo Dellien       Alex De Minaur   4.0                6.721706\n",
       "4    Lorenzo Sonego         Emilio Gomez   5.0                8.658241"
      ]
     },
     "execution_count": 42,
     "metadata": {},
     "output_type": "execute_result"
    }
   ],
   "source": [
    "testset_df.head()"
   ]
  },
  {
   "cell_type": "code",
   "execution_count": null,
   "id": "f6b49c86-1552-4317-8438-b5e090c76ed6",
   "metadata": {},
   "outputs": [],
   "source": []
  },
  {
   "cell_type": "code",
   "execution_count": null,
   "id": "787cee84-2442-467f-a279-29b16b634771",
   "metadata": {},
   "outputs": [],
   "source": []
  },
  {
   "cell_type": "code",
   "execution_count": null,
   "id": "a2fd62a9-7aaa-4124-b52b-b9c04ad9027b",
   "metadata": {},
   "outputs": [],
   "source": []
  },
  {
   "cell_type": "code",
   "execution_count": null,
   "id": "685da0a4-38b2-42be-b2d8-bae25cf3a1b4",
   "metadata": {},
   "outputs": [],
   "source": []
  },
  {
   "cell_type": "code",
   "execution_count": 39,
   "id": "51c6a6f2-5303-46a5-b34e-ad3c5e789198",
   "metadata": {},
   "outputs": [
    {
     "data": {
      "text/html": [
       "<div>\n",
       "<style scoped>\n",
       "    .dataframe tbody tr th:only-of-type {\n",
       "        vertical-align: middle;\n",
       "    }\n",
       "\n",
       "    .dataframe tbody tr th {\n",
       "        vertical-align: top;\n",
       "    }\n",
       "\n",
       "    .dataframe thead th {\n",
       "        text-align: right;\n",
       "    }\n",
       "</style>\n",
       "<table border=\"1\" class=\"dataframe\">\n",
       "  <thead>\n",
       "    <tr style=\"text-align: right;\">\n",
       "      <th></th>\n",
       "      <th>server</th>\n",
       "      <th>returner</th>\n",
       "      <th>aces</th>\n",
       "    </tr>\n",
       "  </thead>\n",
       "  <tbody>\n",
       "    <tr>\n",
       "      <th>0</th>\n",
       "      <td>Alexander Zverev</td>\n",
       "      <td>Fabio Fognini</td>\n",
       "      <td>14.0</td>\n",
       "    </tr>\n",
       "    <tr>\n",
       "      <th>1</th>\n",
       "      <td>Jiri Lehecka</td>\n",
       "      <td>Francisco Cerundolo</td>\n",
       "      <td>6.0</td>\n",
       "    </tr>\n",
       "    <tr>\n",
       "      <th>2</th>\n",
       "      <td>Reilly Opelka</td>\n",
       "      <td>Cedrik Marcel Stebe</td>\n",
       "      <td>11.0</td>\n",
       "    </tr>\n",
       "    <tr>\n",
       "      <th>3</th>\n",
       "      <td>Hugo Dellien</td>\n",
       "      <td>Alex De Minaur</td>\n",
       "      <td>4.0</td>\n",
       "    </tr>\n",
       "    <tr>\n",
       "      <th>4</th>\n",
       "      <td>Lorenzo Sonego</td>\n",
       "      <td>Emilio Gomez</td>\n",
       "      <td>5.0</td>\n",
       "    </tr>\n",
       "  </tbody>\n",
       "</table>\n",
       "</div>"
      ],
      "text/plain": [
       "             server             returner  aces\n",
       "0  Alexander Zverev        Fabio Fognini  14.0\n",
       "1      Jiri Lehecka  Francisco Cerundolo   6.0\n",
       "2     Reilly Opelka  Cedrik Marcel Stebe  11.0\n",
       "3      Hugo Dellien       Alex De Minaur   4.0\n",
       "4    Lorenzo Sonego         Emilio Gomez   5.0"
      ]
     },
     "execution_count": 39,
     "metadata": {},
     "output_type": "execute_result"
    }
   ],
   "source": [
    "testset_df.head()"
   ]
  },
  {
   "cell_type": "code",
   "execution_count": 43,
   "id": "b0bbe6ee-fd25-42db-9374-492edb067475",
   "metadata": {},
   "outputs": [],
   "source": [
    "testset_df_1 = testset_df.iloc[:412]\n",
    "testset_df_2 = testset_df.iloc[412:]\n",
    "testset_df_2 = testset_df_2.rename(columns={\"server\":\"server2\", \"returner\":\"returner2\", \"aces\":\"aces2\", \"server_aces_prediction\":\"server_aces_prediction2\"}).reset_index(drop=True)"
   ]
  },
  {
   "cell_type": "code",
   "execution_count": 46,
   "id": "6ba9f4a3-0ffa-4413-b6ee-8581f101d2ff",
   "metadata": {},
   "outputs": [],
   "source": [
    "test = pd.merge(testset_df_1, testset_df_2, left_index=True, right_index=True)\n",
    "test[\"total_aces\"] = test[\"aces\"] + test[\"aces2\"]\n",
    "test[\"total_aces_predicted\"] = test[\"server_aces_prediction\"] + test[\"server_aces_prediction2\"]"
   ]
  },
  {
   "cell_type": "code",
   "execution_count": 47,
   "id": "39e704f8-c71c-414e-9bd2-bc4198bae65d",
   "metadata": {},
   "outputs": [
    {
     "data": {
      "text/html": [
       "<div>\n",
       "<style scoped>\n",
       "    .dataframe tbody tr th:only-of-type {\n",
       "        vertical-align: middle;\n",
       "    }\n",
       "\n",
       "    .dataframe tbody tr th {\n",
       "        vertical-align: top;\n",
       "    }\n",
       "\n",
       "    .dataframe thead th {\n",
       "        text-align: right;\n",
       "    }\n",
       "</style>\n",
       "<table border=\"1\" class=\"dataframe\">\n",
       "  <thead>\n",
       "    <tr style=\"text-align: right;\">\n",
       "      <th></th>\n",
       "      <th>server</th>\n",
       "      <th>returner</th>\n",
       "      <th>aces</th>\n",
       "      <th>server_aces_prediction</th>\n",
       "      <th>server2</th>\n",
       "      <th>returner2</th>\n",
       "      <th>aces2</th>\n",
       "      <th>server_aces_prediction2</th>\n",
       "      <th>total_aces</th>\n",
       "      <th>total_aces_predicted</th>\n",
       "    </tr>\n",
       "  </thead>\n",
       "  <tbody>\n",
       "    <tr>\n",
       "      <th>0</th>\n",
       "      <td>Alexander Zverev</td>\n",
       "      <td>Fabio Fognini</td>\n",
       "      <td>14.0</td>\n",
       "      <td>11.040451</td>\n",
       "      <td>Fabio Fognini</td>\n",
       "      <td>Alexander Zverev</td>\n",
       "      <td>2.0</td>\n",
       "      <td>7.428829</td>\n",
       "      <td>16.0</td>\n",
       "      <td>18.469280</td>\n",
       "    </tr>\n",
       "    <tr>\n",
       "      <th>1</th>\n",
       "      <td>Jiri Lehecka</td>\n",
       "      <td>Francisco Cerundolo</td>\n",
       "      <td>6.0</td>\n",
       "      <td>7.639405</td>\n",
       "      <td>Francisco Cerundolo</td>\n",
       "      <td>Jiri Lehecka</td>\n",
       "      <td>0.0</td>\n",
       "      <td>7.861067</td>\n",
       "      <td>6.0</td>\n",
       "      <td>15.500472</td>\n",
       "    </tr>\n",
       "    <tr>\n",
       "      <th>2</th>\n",
       "      <td>Reilly Opelka</td>\n",
       "      <td>Cedrik Marcel Stebe</td>\n",
       "      <td>11.0</td>\n",
       "      <td>10.628500</td>\n",
       "      <td>Cedrik Marcel Stebe</td>\n",
       "      <td>Reilly Opelka</td>\n",
       "      <td>2.0</td>\n",
       "      <td>8.787718</td>\n",
       "      <td>13.0</td>\n",
       "      <td>19.416218</td>\n",
       "    </tr>\n",
       "    <tr>\n",
       "      <th>3</th>\n",
       "      <td>Hugo Dellien</td>\n",
       "      <td>Alex De Minaur</td>\n",
       "      <td>4.0</td>\n",
       "      <td>6.721706</td>\n",
       "      <td>Alex De Minaur</td>\n",
       "      <td>Hugo Dellien</td>\n",
       "      <td>7.0</td>\n",
       "      <td>7.678700</td>\n",
       "      <td>11.0</td>\n",
       "      <td>14.400405</td>\n",
       "    </tr>\n",
       "    <tr>\n",
       "      <th>4</th>\n",
       "      <td>Lorenzo Sonego</td>\n",
       "      <td>Emilio Gomez</td>\n",
       "      <td>5.0</td>\n",
       "      <td>8.658241</td>\n",
       "      <td>Emilio Gomez</td>\n",
       "      <td>Lorenzo Sonego</td>\n",
       "      <td>0.0</td>\n",
       "      <td>6.916651</td>\n",
       "      <td>5.0</td>\n",
       "      <td>15.574892</td>\n",
       "    </tr>\n",
       "  </tbody>\n",
       "</table>\n",
       "</div>"
      ],
      "text/plain": [
       "             server             returner  aces  server_aces_prediction  \\\n",
       "0  Alexander Zverev        Fabio Fognini  14.0               11.040451   \n",
       "1      Jiri Lehecka  Francisco Cerundolo   6.0                7.639405   \n",
       "2     Reilly Opelka  Cedrik Marcel Stebe  11.0               10.628500   \n",
       "3      Hugo Dellien       Alex De Minaur   4.0                6.721706   \n",
       "4    Lorenzo Sonego         Emilio Gomez   5.0                8.658241   \n",
       "\n",
       "               server2         returner2  aces2  server_aces_prediction2  \\\n",
       "0        Fabio Fognini  Alexander Zverev    2.0                 7.428829   \n",
       "1  Francisco Cerundolo      Jiri Lehecka    0.0                 7.861067   \n",
       "2  Cedrik Marcel Stebe     Reilly Opelka    2.0                 8.787718   \n",
       "3       Alex De Minaur      Hugo Dellien    7.0                 7.678700   \n",
       "4         Emilio Gomez    Lorenzo Sonego    0.0                 6.916651   \n",
       "\n",
       "   total_aces  total_aces_predicted  \n",
       "0        16.0             18.469280  \n",
       "1         6.0             15.500472  \n",
       "2        13.0             19.416218  \n",
       "3        11.0             14.400405  \n",
       "4         5.0             15.574892  "
      ]
     },
     "execution_count": 47,
     "metadata": {},
     "output_type": "execute_result"
    }
   ],
   "source": [
    "test.head()"
   ]
  },
  {
   "cell_type": "code",
   "execution_count": null,
   "id": "d9abdbb7-eeb5-4b3f-aad6-666d5e143cee",
   "metadata": {},
   "outputs": [],
   "source": []
  },
  {
   "cell_type": "code",
   "execution_count": null,
   "id": "f1c9483f-cb2a-45a5-a2cc-8bc30c6de7a5",
   "metadata": {},
   "outputs": [],
   "source": []
  },
  {
   "cell_type": "code",
   "execution_count": null,
   "id": "3acdc11f-f3a6-412b-b65e-348865cc7226",
   "metadata": {},
   "outputs": [],
   "source": []
  },
  {
   "cell_type": "code",
   "execution_count": null,
   "id": "57f2a41f-2c2c-4356-be82-92ac58f4dd45",
   "metadata": {},
   "outputs": [],
   "source": []
  },
  {
   "cell_type": "code",
   "execution_count": null,
   "id": "cba78c6c-f05f-4b69-a56d-0fa6ed69aebd",
   "metadata": {},
   "outputs": [],
   "source": []
  },
  {
   "cell_type": "code",
   "execution_count": 48,
   "id": "2612fd63-00a8-4e01-b34f-0cc257c73c1c",
   "metadata": {},
   "outputs": [],
   "source": [
    "def apply_predictor(row):\n",
    "    return total_match_aces_prediction(row[\"server\"], row[\"returner\"])"
   ]
  },
  {
   "cell_type": "code",
   "execution_count": 49,
   "id": "5fc6514a-b1f7-41e6-9008-559317725d6f",
   "metadata": {},
   "outputs": [],
   "source": [
    "test[\"predicted_aces\"] = test.apply(apply_predictor, axis=1)"
   ]
  },
  {
   "cell_type": "code",
   "execution_count": 50,
   "id": "6d94cdb7-eb1a-41db-88b9-aa28b23140b7",
   "metadata": {},
   "outputs": [
    {
     "data": {
      "text/html": [
       "<div>\n",
       "<style scoped>\n",
       "    .dataframe tbody tr th:only-of-type {\n",
       "        vertical-align: middle;\n",
       "    }\n",
       "\n",
       "    .dataframe tbody tr th {\n",
       "        vertical-align: top;\n",
       "    }\n",
       "\n",
       "    .dataframe thead th {\n",
       "        text-align: right;\n",
       "    }\n",
       "</style>\n",
       "<table border=\"1\" class=\"dataframe\">\n",
       "  <thead>\n",
       "    <tr style=\"text-align: right;\">\n",
       "      <th></th>\n",
       "      <th>server</th>\n",
       "      <th>returner</th>\n",
       "      <th>aces</th>\n",
       "      <th>server_aces_prediction</th>\n",
       "      <th>server2</th>\n",
       "      <th>returner2</th>\n",
       "      <th>aces2</th>\n",
       "      <th>server_aces_prediction2</th>\n",
       "      <th>total_aces</th>\n",
       "      <th>total_aces_predicted</th>\n",
       "      <th>predicted_aces</th>\n",
       "    </tr>\n",
       "  </thead>\n",
       "  <tbody>\n",
       "    <tr>\n",
       "      <th>0</th>\n",
       "      <td>Alexander Zverev</td>\n",
       "      <td>Fabio Fognini</td>\n",
       "      <td>14.0</td>\n",
       "      <td>11.040451</td>\n",
       "      <td>Fabio Fognini</td>\n",
       "      <td>Alexander Zverev</td>\n",
       "      <td>2.0</td>\n",
       "      <td>7.428829</td>\n",
       "      <td>16.0</td>\n",
       "      <td>18.469280</td>\n",
       "      <td>18.469280</td>\n",
       "    </tr>\n",
       "    <tr>\n",
       "      <th>1</th>\n",
       "      <td>Jiri Lehecka</td>\n",
       "      <td>Francisco Cerundolo</td>\n",
       "      <td>6.0</td>\n",
       "      <td>7.639405</td>\n",
       "      <td>Francisco Cerundolo</td>\n",
       "      <td>Jiri Lehecka</td>\n",
       "      <td>0.0</td>\n",
       "      <td>7.861067</td>\n",
       "      <td>6.0</td>\n",
       "      <td>15.500472</td>\n",
       "      <td>15.500472</td>\n",
       "    </tr>\n",
       "    <tr>\n",
       "      <th>2</th>\n",
       "      <td>Reilly Opelka</td>\n",
       "      <td>Cedrik Marcel Stebe</td>\n",
       "      <td>11.0</td>\n",
       "      <td>10.628500</td>\n",
       "      <td>Cedrik Marcel Stebe</td>\n",
       "      <td>Reilly Opelka</td>\n",
       "      <td>2.0</td>\n",
       "      <td>8.787718</td>\n",
       "      <td>13.0</td>\n",
       "      <td>19.416218</td>\n",
       "      <td>19.416218</td>\n",
       "    </tr>\n",
       "    <tr>\n",
       "      <th>3</th>\n",
       "      <td>Hugo Dellien</td>\n",
       "      <td>Alex De Minaur</td>\n",
       "      <td>4.0</td>\n",
       "      <td>6.721706</td>\n",
       "      <td>Alex De Minaur</td>\n",
       "      <td>Hugo Dellien</td>\n",
       "      <td>7.0</td>\n",
       "      <td>7.678700</td>\n",
       "      <td>11.0</td>\n",
       "      <td>14.400405</td>\n",
       "      <td>14.400405</td>\n",
       "    </tr>\n",
       "    <tr>\n",
       "      <th>4</th>\n",
       "      <td>Lorenzo Sonego</td>\n",
       "      <td>Emilio Gomez</td>\n",
       "      <td>5.0</td>\n",
       "      <td>8.658241</td>\n",
       "      <td>Emilio Gomez</td>\n",
       "      <td>Lorenzo Sonego</td>\n",
       "      <td>0.0</td>\n",
       "      <td>6.916651</td>\n",
       "      <td>5.0</td>\n",
       "      <td>15.574892</td>\n",
       "      <td>15.574892</td>\n",
       "    </tr>\n",
       "    <tr>\n",
       "      <th>5</th>\n",
       "      <td>Yu Hsiou Hsu</td>\n",
       "      <td>Thanasi Kokkinakis</td>\n",
       "      <td>7.0</td>\n",
       "      <td>8.442801</td>\n",
       "      <td>Thanasi Kokkinakis</td>\n",
       "      <td>Yu Hsiou Hsu</td>\n",
       "      <td>16.0</td>\n",
       "      <td>9.921626</td>\n",
       "      <td>23.0</td>\n",
       "      <td>18.364426</td>\n",
       "      <td>18.364426</td>\n",
       "    </tr>\n",
       "    <tr>\n",
       "      <th>6</th>\n",
       "      <td>Roberto Bautista Agut</td>\n",
       "      <td>J J Wolf</td>\n",
       "      <td>6.0</td>\n",
       "      <td>7.606892</td>\n",
       "      <td>J J Wolf</td>\n",
       "      <td>Roberto Bautista Agut</td>\n",
       "      <td>14.0</td>\n",
       "      <td>9.844571</td>\n",
       "      <td>20.0</td>\n",
       "      <td>17.451463</td>\n",
       "      <td>17.451463</td>\n",
       "    </tr>\n",
       "    <tr>\n",
       "      <th>7</th>\n",
       "      <td>Karen Khachanov</td>\n",
       "      <td>Bernabe Zapata Miralles</td>\n",
       "      <td>11.0</td>\n",
       "      <td>8.942526</td>\n",
       "      <td>Bernabe Zapata Miralles</td>\n",
       "      <td>Karen Khachanov</td>\n",
       "      <td>1.0</td>\n",
       "      <td>7.158012</td>\n",
       "      <td>12.0</td>\n",
       "      <td>16.100538</td>\n",
       "      <td>16.100538</td>\n",
       "    </tr>\n",
       "    <tr>\n",
       "      <th>8</th>\n",
       "      <td>Jiri Vesely</td>\n",
       "      <td>Christopher Oconnell</td>\n",
       "      <td>16.0</td>\n",
       "      <td>9.717991</td>\n",
       "      <td>Christopher Oconnell</td>\n",
       "      <td>Jiri Vesely</td>\n",
       "      <td>11.0</td>\n",
       "      <td>9.643943</td>\n",
       "      <td>27.0</td>\n",
       "      <td>19.361934</td>\n",
       "      <td>19.361934</td>\n",
       "    </tr>\n",
       "    <tr>\n",
       "      <th>9</th>\n",
       "      <td>Guido Andreozzi</td>\n",
       "      <td>Laslo Djere</td>\n",
       "      <td>5.0</td>\n",
       "      <td>7.889855</td>\n",
       "      <td>Laslo Djere</td>\n",
       "      <td>Guido Andreozzi</td>\n",
       "      <td>12.0</td>\n",
       "      <td>8.583312</td>\n",
       "      <td>17.0</td>\n",
       "      <td>16.473167</td>\n",
       "      <td>16.473167</td>\n",
       "    </tr>\n",
       "    <tr>\n",
       "      <th>10</th>\n",
       "      <td>Maximilian Marterer</td>\n",
       "      <td>Steve Johnson</td>\n",
       "      <td>31.0</td>\n",
       "      <td>10.734706</td>\n",
       "      <td>Steve Johnson</td>\n",
       "      <td>Maximilian Marterer</td>\n",
       "      <td>26.0</td>\n",
       "      <td>10.177942</td>\n",
       "      <td>57.0</td>\n",
       "      <td>20.912647</td>\n",
       "      <td>20.912647</td>\n",
       "    </tr>\n",
       "    <tr>\n",
       "      <th>11</th>\n",
       "      <td>David Goffin</td>\n",
       "      <td>Rafael Nadal</td>\n",
       "      <td>3.0</td>\n",
       "      <td>7.422962</td>\n",
       "      <td>Rafael Nadal</td>\n",
       "      <td>David Goffin</td>\n",
       "      <td>5.0</td>\n",
       "      <td>6.662009</td>\n",
       "      <td>8.0</td>\n",
       "      <td>14.084971</td>\n",
       "      <td>14.084971</td>\n",
       "    </tr>\n",
       "    <tr>\n",
       "      <th>12</th>\n",
       "      <td>Roberto Bautista Agut</td>\n",
       "      <td>Nick Kyrgios</td>\n",
       "      <td>14.0</td>\n",
       "      <td>8.526056</td>\n",
       "      <td>Nick Kyrgios</td>\n",
       "      <td>Roberto Bautista Agut</td>\n",
       "      <td>12.0</td>\n",
       "      <td>13.169320</td>\n",
       "      <td>26.0</td>\n",
       "      <td>21.695376</td>\n",
       "      <td>21.695376</td>\n",
       "    </tr>\n",
       "    <tr>\n",
       "      <th>13</th>\n",
       "      <td>Aslan Karatsev</td>\n",
       "      <td>Roberto Carballes Baena</td>\n",
       "      <td>10.0</td>\n",
       "      <td>8.565967</td>\n",
       "      <td>Roberto Carballes Baena</td>\n",
       "      <td>Aslan Karatsev</td>\n",
       "      <td>1.0</td>\n",
       "      <td>7.801795</td>\n",
       "      <td>11.0</td>\n",
       "      <td>16.367762</td>\n",
       "      <td>16.367762</td>\n",
       "    </tr>\n",
       "    <tr>\n",
       "      <th>14</th>\n",
       "      <td>Daniel Evans</td>\n",
       "      <td>Quentin Halys</td>\n",
       "      <td>12.0</td>\n",
       "      <td>7.916206</td>\n",
       "      <td>Quentin Halys</td>\n",
       "      <td>Daniel Evans</td>\n",
       "      <td>23.0</td>\n",
       "      <td>11.012496</td>\n",
       "      <td>35.0</td>\n",
       "      <td>18.928702</td>\n",
       "      <td>18.928702</td>\n",
       "    </tr>\n",
       "    <tr>\n",
       "      <th>15</th>\n",
       "      <td>Aslan Karatsev</td>\n",
       "      <td>Grigor Dimitrov</td>\n",
       "      <td>9.0</td>\n",
       "      <td>7.814304</td>\n",
       "      <td>Grigor Dimitrov</td>\n",
       "      <td>Aslan Karatsev</td>\n",
       "      <td>12.0</td>\n",
       "      <td>8.763102</td>\n",
       "      <td>21.0</td>\n",
       "      <td>16.577406</td>\n",
       "      <td>16.577406</td>\n",
       "    </tr>\n",
       "    <tr>\n",
       "      <th>16</th>\n",
       "      <td>Matteo Berrettini</td>\n",
       "      <td>Hubert Hurkacz</td>\n",
       "      <td>22.0</td>\n",
       "      <td>11.163741</td>\n",
       "      <td>Hubert Hurkacz</td>\n",
       "      <td>Matteo Berrettini</td>\n",
       "      <td>5.0</td>\n",
       "      <td>9.125096</td>\n",
       "      <td>27.0</td>\n",
       "      <td>20.288837</td>\n",
       "      <td>20.288837</td>\n",
       "    </tr>\n",
       "    <tr>\n",
       "      <th>17</th>\n",
       "      <td>Tommy Paul</td>\n",
       "      <td>Roman Safiullin</td>\n",
       "      <td>10.0</td>\n",
       "      <td>8.426039</td>\n",
       "      <td>Roman Safiullin</td>\n",
       "      <td>Tommy Paul</td>\n",
       "      <td>8.0</td>\n",
       "      <td>8.356668</td>\n",
       "      <td>18.0</td>\n",
       "      <td>16.782706</td>\n",
       "      <td>16.782706</td>\n",
       "    </tr>\n",
       "    <tr>\n",
       "      <th>18</th>\n",
       "      <td>Cameron Norrie</td>\n",
       "      <td>Alejandro Davidovich Fokina</td>\n",
       "      <td>8.0</td>\n",
       "      <td>7.664027</td>\n",
       "      <td>Alejandro Davidovich Fokina</td>\n",
       "      <td>Cameron Norrie</td>\n",
       "      <td>4.0</td>\n",
       "      <td>7.314913</td>\n",
       "      <td>12.0</td>\n",
       "      <td>14.978940</td>\n",
       "      <td>14.978940</td>\n",
       "    </tr>\n",
       "    <tr>\n",
       "      <th>19</th>\n",
       "      <td>Taylor Fritz</td>\n",
       "      <td>Rafael Nadal</td>\n",
       "      <td>19.0</td>\n",
       "      <td>10.459852</td>\n",
       "      <td>Rafael Nadal</td>\n",
       "      <td>Taylor Fritz</td>\n",
       "      <td>5.0</td>\n",
       "      <td>7.283551</td>\n",
       "      <td>24.0</td>\n",
       "      <td>17.743403</td>\n",
       "      <td>17.743403</td>\n",
       "    </tr>\n",
       "  </tbody>\n",
       "</table>\n",
       "</div>"
      ],
      "text/plain": [
       "                   server                     returner  aces  \\\n",
       "0        Alexander Zverev                Fabio Fognini  14.0   \n",
       "1            Jiri Lehecka          Francisco Cerundolo   6.0   \n",
       "2           Reilly Opelka          Cedrik Marcel Stebe  11.0   \n",
       "3            Hugo Dellien               Alex De Minaur   4.0   \n",
       "4          Lorenzo Sonego                 Emilio Gomez   5.0   \n",
       "5            Yu Hsiou Hsu           Thanasi Kokkinakis   7.0   \n",
       "6   Roberto Bautista Agut                     J J Wolf   6.0   \n",
       "7         Karen Khachanov      Bernabe Zapata Miralles  11.0   \n",
       "8             Jiri Vesely         Christopher Oconnell  16.0   \n",
       "9         Guido Andreozzi                  Laslo Djere   5.0   \n",
       "10    Maximilian Marterer                Steve Johnson  31.0   \n",
       "11           David Goffin                 Rafael Nadal   3.0   \n",
       "12  Roberto Bautista Agut                 Nick Kyrgios  14.0   \n",
       "13         Aslan Karatsev      Roberto Carballes Baena  10.0   \n",
       "14           Daniel Evans                Quentin Halys  12.0   \n",
       "15         Aslan Karatsev              Grigor Dimitrov   9.0   \n",
       "16      Matteo Berrettini               Hubert Hurkacz  22.0   \n",
       "17             Tommy Paul              Roman Safiullin  10.0   \n",
       "18         Cameron Norrie  Alejandro Davidovich Fokina   8.0   \n",
       "19           Taylor Fritz                 Rafael Nadal  19.0   \n",
       "\n",
       "    server_aces_prediction                      server2  \\\n",
       "0                11.040451                Fabio Fognini   \n",
       "1                 7.639405          Francisco Cerundolo   \n",
       "2                10.628500          Cedrik Marcel Stebe   \n",
       "3                 6.721706               Alex De Minaur   \n",
       "4                 8.658241                 Emilio Gomez   \n",
       "5                 8.442801           Thanasi Kokkinakis   \n",
       "6                 7.606892                     J J Wolf   \n",
       "7                 8.942526      Bernabe Zapata Miralles   \n",
       "8                 9.717991         Christopher Oconnell   \n",
       "9                 7.889855                  Laslo Djere   \n",
       "10               10.734706                Steve Johnson   \n",
       "11                7.422962                 Rafael Nadal   \n",
       "12                8.526056                 Nick Kyrgios   \n",
       "13                8.565967      Roberto Carballes Baena   \n",
       "14                7.916206                Quentin Halys   \n",
       "15                7.814304              Grigor Dimitrov   \n",
       "16               11.163741               Hubert Hurkacz   \n",
       "17                8.426039              Roman Safiullin   \n",
       "18                7.664027  Alejandro Davidovich Fokina   \n",
       "19               10.459852                 Rafael Nadal   \n",
       "\n",
       "                returner2  aces2  server_aces_prediction2  total_aces  \\\n",
       "0        Alexander Zverev    2.0                 7.428829        16.0   \n",
       "1            Jiri Lehecka    0.0                 7.861067         6.0   \n",
       "2           Reilly Opelka    2.0                 8.787718        13.0   \n",
       "3            Hugo Dellien    7.0                 7.678700        11.0   \n",
       "4          Lorenzo Sonego    0.0                 6.916651         5.0   \n",
       "5            Yu Hsiou Hsu   16.0                 9.921626        23.0   \n",
       "6   Roberto Bautista Agut   14.0                 9.844571        20.0   \n",
       "7         Karen Khachanov    1.0                 7.158012        12.0   \n",
       "8             Jiri Vesely   11.0                 9.643943        27.0   \n",
       "9         Guido Andreozzi   12.0                 8.583312        17.0   \n",
       "10    Maximilian Marterer   26.0                10.177942        57.0   \n",
       "11           David Goffin    5.0                 6.662009         8.0   \n",
       "12  Roberto Bautista Agut   12.0                13.169320        26.0   \n",
       "13         Aslan Karatsev    1.0                 7.801795        11.0   \n",
       "14           Daniel Evans   23.0                11.012496        35.0   \n",
       "15         Aslan Karatsev   12.0                 8.763102        21.0   \n",
       "16      Matteo Berrettini    5.0                 9.125096        27.0   \n",
       "17             Tommy Paul    8.0                 8.356668        18.0   \n",
       "18         Cameron Norrie    4.0                 7.314913        12.0   \n",
       "19           Taylor Fritz    5.0                 7.283551        24.0   \n",
       "\n",
       "    total_aces_predicted  predicted_aces  \n",
       "0              18.469280       18.469280  \n",
       "1              15.500472       15.500472  \n",
       "2              19.416218       19.416218  \n",
       "3              14.400405       14.400405  \n",
       "4              15.574892       15.574892  \n",
       "5              18.364426       18.364426  \n",
       "6              17.451463       17.451463  \n",
       "7              16.100538       16.100538  \n",
       "8              19.361934       19.361934  \n",
       "9              16.473167       16.473167  \n",
       "10             20.912647       20.912647  \n",
       "11             14.084971       14.084971  \n",
       "12             21.695376       21.695376  \n",
       "13             16.367762       16.367762  \n",
       "14             18.928702       18.928702  \n",
       "15             16.577406       16.577406  \n",
       "16             20.288837       20.288837  \n",
       "17             16.782706       16.782706  \n",
       "18             14.978940       14.978940  \n",
       "19             17.743403       17.743403  "
      ]
     },
     "execution_count": 50,
     "metadata": {},
     "output_type": "execute_result"
    }
   ],
   "source": [
    "test.head(20)"
   ]
  },
  {
   "cell_type": "code",
   "execution_count": 29,
   "id": "5b421de2-74d7-4dd1-a212-314a46ab420d",
   "metadata": {},
   "outputs": [],
   "source": [
    "from sklearn.metrics import mean_squared_error\n",
    "import numpy as np"
   ]
  },
  {
   "cell_type": "code",
   "execution_count": 51,
   "id": "e7f0c192-a1f2-4fc6-a662-b1b81ecde0a7",
   "metadata": {},
   "outputs": [
    {
     "data": {
      "text/plain": [
       "9.186098860195372"
      ]
     },
     "execution_count": 51,
     "metadata": {},
     "output_type": "execute_result"
    }
   ],
   "source": [
    "MSE = mean_squared_error(test[\"total_aces\"], test[\"predicted_aces\"])\n",
    "RMSE = np.sqrt(MSE)\n",
    "RMSE"
   ]
  },
  {
   "cell_type": "code",
   "execution_count": 52,
   "id": "7f9e1024-a30f-4042-9f4c-8ffbb94d2c97",
   "metadata": {},
   "outputs": [
    {
     "data": {
      "text/plain": [
       "17.353964401294498"
      ]
     },
     "execution_count": 52,
     "metadata": {},
     "output_type": "execute_result"
    }
   ],
   "source": [
    "average_aces = test[\"total_aces\"].mean()\n",
    "average_aces"
   ]
  },
  {
   "cell_type": "code",
   "execution_count": 53,
   "id": "0672906b-eda3-47e6-9ce4-1f1da25245c9",
   "metadata": {},
   "outputs": [],
   "source": [
    "average_aces_list = [average_aces] * 412"
   ]
  },
  {
   "cell_type": "code",
   "execution_count": 54,
   "id": "2e0d11d0-623c-46ae-a38b-0fa813621320",
   "metadata": {},
   "outputs": [
    {
     "data": {
      "text/plain": [
       "10.46989535111225"
      ]
     },
     "execution_count": 54,
     "metadata": {},
     "output_type": "execute_result"
    }
   ],
   "source": [
    "# BASELINE COMPARISON:\n",
    "MSE_baseline = mean_squared_error(test[\"total_aces\"], average_aces_list)\n",
    "RMSE_baseline = np.sqrt(MSE_baseline)\n",
    "RMSE_baseline"
   ]
  },
  {
   "cell_type": "code",
   "execution_count": null,
   "id": "669305c5-37b8-4e1e-91bc-f32eed04c3f9",
   "metadata": {},
   "outputs": [],
   "source": []
  }
 ],
 "metadata": {
  "kernelspec": {
   "display_name": "Python 3 (ipykernel)",
   "language": "python",
   "name": "python3"
  },
  "language_info": {
   "codemirror_mode": {
    "name": "ipython",
    "version": 3
   },
   "file_extension": ".py",
   "mimetype": "text/x-python",
   "name": "python",
   "nbconvert_exporter": "python",
   "pygments_lexer": "ipython3",
   "version": "3.11.7"
  }
 },
 "nbformat": 4,
 "nbformat_minor": 5
}
