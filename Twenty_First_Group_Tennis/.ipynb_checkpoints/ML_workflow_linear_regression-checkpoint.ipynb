{
 "cells": [
  {
   "cell_type": "markdown",
   "id": "62acd722-37f3-4c67-8029-a67e18725409",
   "metadata": {},
   "source": [
    "Here we are testing out the performance of a linear regression model. This will include one-hot-encoding the categorical features in the dataset"
   ]
  },
  {
   "cell_type": "code",
   "execution_count": null,
   "id": "c7a0bc65-5a79-4b72-96f1-25f4342590bb",
   "metadata": {},
   "outputs": [],
   "source": []
  }
 ],
 "metadata": {
  "kernelspec": {
   "display_name": "Python 3 (ipykernel)",
   "language": "python",
   "name": "python3"
  },
  "language_info": {
   "codemirror_mode": {
    "name": "ipython",
    "version": 3
   },
   "file_extension": ".py",
   "mimetype": "text/x-python",
   "name": "python",
   "nbconvert_exporter": "python",
   "pygments_lexer": "ipython3",
   "version": "3.11.7"
  }
 },
 "nbformat": 4,
 "nbformat_minor": 5
}
