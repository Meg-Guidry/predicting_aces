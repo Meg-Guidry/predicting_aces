{
 "cells": [
  {
   "cell_type": "markdown",
   "id": "b6e9bd40-a03b-4d5d-bd4c-e1cf724c7861",
   "metadata": {},
   "source": [
    "Assumptions\n",
    "- lets assume we want to predict the number of aces in a given match that has not taken place yet. This means our features should only include the data about the players and environment. We will not include match statistics in the features\n",
    "- There are only 32 seeds in a grand slam. there are 4 instances of individuals having a seed of 33 and 3,457 instances of the loser seed being NaN. I assume the NaN values in this case represents unseeded players. We can consider unseeded players categorically similar by replaceing NaNs with the value 34.\n",
    "- Only fully completed matches are included in this project. matches which had one competitor retire or matches won by walkover have been removed.\n",
    "- "
   ]
  },
  {
   "cell_type": "markdown",
   "id": "0d9f77ae-3a33-428e-9caf-74b9464a9bb6",
   "metadata": {},
   "source": [
    "Cleaning notes\n",
    "- 23 matches have missing values for aces in the match. this is because these matches were won via \"walkover\". These matches that do not have a value for winner_aces and loser_aces are removed."
   ]
  },
  {
   "cell_type": "code",
   "execution_count": 123,
   "id": "648d628f-de80-468b-9dc0-565d94c7e2a4",
   "metadata": {},
   "outputs": [],
   "source": [
    "import pandas as pd\n",
    "from catboost import CatBoostRegressor, Pool, cv\n",
    "from sklearn.model_selection import train_test_split, KFold\n",
    "import numpy as np\n",
    "from sklearn.metrics import mean_squared_error\n",
    "import seaborn as sns\n",
    "import matplotlib.pyplot as plt"
   ]
  },
  {
   "cell_type": "code",
   "execution_count": 124,
   "id": "e9abc73f-f66e-4759-b0b1-cae8db98fa34",
   "metadata": {},
   "outputs": [],
   "source": [
    "tennis_df = pd.read_excel(\"tennis.xlsx\")"
   ]
  },
  {
   "cell_type": "markdown",
   "id": "77869a30-6edc-4681-af55-096b4f5c216e",
   "metadata": {},
   "source": [
    "## Cleaning"
   ]
  },
  {
   "cell_type": "code",
   "execution_count": 125,
   "id": "c5be103c-23e5-438d-b09a-4b7dd66e9339",
   "metadata": {},
   "outputs": [],
   "source": [
    "# create a new feature called total_aces which is the sum of winner_aces and loser_aces\n",
    "tennis_df[\"total_aces\"] = tennis_df[\"winner_aces\"] + tennis_df[\"loser_aces\"]"
   ]
  },
  {
   "cell_type": "code",
   "execution_count": 146,
   "id": "8380bcde-a091-4bf8-b791-9a01d3051188",
   "metadata": {},
   "outputs": [],
   "source": [
    "# Standardise the grand slam names (US Open in particular)\n",
    "tennis_df[\"tourney_name\"].replace(\"Us Open\", \"US Open\", inplace=True)\n",
    "\n",
    "# Drop rows that have NaN for \"winner_aces\"\n",
    "tennis_df.dropna(subset=[\"winner_aces\"], inplace=True)\n",
    "\n",
    "# Drop rows that have NaN for \"winner_double_faults\"\n",
    "tennis_df.dropna(subset=[\"winner_double_faults\"], inplace=True)\n",
    "\n",
    "# Replace loser_seed nan values with 34\n",
    "tennis_df[\"loser_seed\"].fillna(34, inplace=True)\n",
    "\n",
    "# Replace winner_seed nan values with 34\n",
    "tennis_df[\"winner_seed\"].fillna(34, inplace=True)\n",
    "\n",
    "# Drop unfinished matches/ matches where one player retired before finishing\n",
    "tennis_df.drop(tennis_df[tennis_df[\"score\"].str.contains('RET', regex=False)].index, inplace=True)\n",
    "\n",
    "# drop rows with W/O in score\n",
    "tennis_df.drop(tennis_df[tennis_df[\"score\"].str.contains('W/O', regex=False)].index, inplace=True)\n",
    "\n",
    "# Drop rows that have unknown winner serve ability:\n",
    "tennis_df.drop(tennis_df[tennis_df[\"winner_serve_ability\"].isnull()].index, inplace=True)"
   ]
  },
  {
   "cell_type": "code",
   "execution_count": 152,
   "id": "ccd1cc7d-6d49-42db-bb48-8dbd8cc73934",
   "metadata": {},
   "outputs": [],
   "source": [
    "X_serve_ability = tennis_df[['tourney_id', 'tourney_name', 'surface', 'tourney_date',\n",
    "       'match_date', 'match_num', 'round', 'best_of', 'gender', 'winner_id',\n",
    "       'winner_seed', 'winner_rank', 'winner_name', 'winner_age', 'winner_rating_score', \n",
    "       'winner_serve_ability', 'loser_id', 'loser_seed', 'loser_name', 'loser_age', \n",
    "       'loser_rating_score', \"loser_serve_ability\"]]\n",
    "\n",
    "X_match_stats = tennis_df[['tourney_id', 'tourney_name', 'surface', 'tourney_date',\n",
    "       'match_date', 'match_num', 'round', 'best_of', 'gender', 'winner_id',\n",
    "       'winner_seed', 'winner_rank', 'winner_name', 'winner_age', 'loser_id', \n",
    "       'loser_seed', 'loser_name', 'loser_age', 'loser_rating_score','score',\n",
    "       'winner_double_faults', 'winner_service_points','winner_first_serves_in', \n",
    "       'winner_first_serves_won','winner_second_serves_won', 'winner_break_points_saved',\n",
    "       'winner_break_points_faced', 'winner_sets', 'winner_games', 'loser_double_faults', \n",
    "       'loser_service_points','loser_first_serves_in', 'loser_first_serves_won',\n",
    "       'loser_second_serves_won', 'loser_break_points_saved','loser_break_points_faced', \n",
    "       'loser_sets', 'loser_games']]\n",
    "\n",
    "y = tennis_df[\"total_aces\"]\n",
    "\n",
    "X_train, X_test, y_train, y_test = train_test_split(X_serve_ability, y, test_size=0.2, random_state=42)"
   ]
  },
  {
   "cell_type": "code",
   "execution_count": 153,
   "id": "15ee5f06-240c-4030-a355-bf11ce8f8fa6",
   "metadata": {},
   "outputs": [],
   "source": [
    "# Initialise the catboost model\n",
    "model = CatBoostRegressor(iterations=2,\n",
    "                          learning_rate=1,\n",
    "                          depth=2)"
   ]
  },
  {
   "cell_type": "code",
   "execution_count": 155,
   "id": "7b27d51f-a91e-4ef1-a8d2-776b6f22305d",
   "metadata": {},
   "outputs": [
    {
     "name": "stdout",
     "output_type": "stream",
     "text": [
      "0:\tlearn: 7.6776433\ttotal: 1.88ms\tremaining: 1.88ms\n",
      "1:\tlearn: 7.3600431\ttotal: 3.32ms\tremaining: 0us\n"
     ]
    },
    {
     "data": {
      "text/plain": [
       "<catboost.core.CatBoostRegressor at 0x169cc7550>"
      ]
     },
     "execution_count": 155,
     "metadata": {},
     "output_type": "execute_result"
    }
   ],
   "source": [
    "# Fit model\n",
    "model.fit(X_train, \n",
    "          y_train,\n",
    "          cat_features= ['tourney_id', 'tourney_name', 'surface', 'tourney_date',\n",
    "       'match_date', 'round', 'gender', 'winner_name', 'loser_name']\n",
    "                          )\n",
    "\n",
    "# NOTE: include \"score\" above if using match stats in the training data"
   ]
  },
  {
   "cell_type": "code",
   "execution_count": 156,
   "id": "5e8e3942-b4f2-40eb-850f-11b65d748620",
   "metadata": {},
   "outputs": [
    {
     "name": "stdout",
     "output_type": "stream",
     "text": [
      "MSE is 41.63626401381117 while the baseline MSE is 83.89367467629438\n",
      "RMSE is 6.452616834572712 while the baseline RMSE is 9.15934903125186\n"
     ]
    }
   ],
   "source": [
    "# Get predictions\n",
    "preds = model.predict(X_test)\n",
    "\n",
    "# Model evaluation MSE and RMSE\n",
    "MSE = mean_squared_error(y_test, preds)\n",
    "RMSE = np.sqrt(MSE)\n",
    "\n",
    "# Calculate the MSE and RMSE if our prediction is simply the average value:\n",
    "avg_aces_list = [tennis_df[\"total_aces\"].mean()] * len(preds)\n",
    "baseline_MSE = mean_squared_error(y_test, avg_aces_list)\n",
    "baseline_RMSE = np.sqrt(baseline_MSE)\n",
    "\n",
    "print(f\"MSE is {MSE} while the baseline MSE is {baseline_MSE}\")\n",
    "print(f\"RMSE is {RMSE} while the baseline RMSE is {baseline_RMSE}\")"
   ]
  },
  {
   "cell_type": "code",
   "execution_count": 131,
   "id": "5c615b70-a5bf-4117-a263-67ea17e05ef5",
   "metadata": {},
   "outputs": [
    {
     "data": {
      "image/png": "[encoded data removed]",
      "text/plain": [
       "<Figure size 640x480 with 1 Axes>"
      ]
     },
     "metadata": {},
     "output_type": "display_data"
    }
   ],
   "source": [
    "sns.boxplot(data=tennis_df, y=\"total_aces\", x=\"gender\")\n",
    "\n",
    "plt.show()"
   ]
  },
  {
   "cell_type": "code",
   "execution_count": 132,
   "id": "f07a6263-d42e-4a44-ae37-e704f3a0c67d",
   "metadata": {},
   "outputs": [
    {
     "ename": "ValueError",
     "evalue": "\nAll the 5 fits failed.\nIt is very likely that your model is misconfigured.\nYou can try to debug the error by setting error_score='raise'.\n\nBelow are more details about the failures:\n--------------------------------------------------------------------------------\n5 fits failed with the following error:\nTraceback (most recent call last):\n  File \"_catboost.pyx\", line 2383, in _catboost.get_float_feature\n  File \"_catboost.pyx\", line 1188, in _catboost._FloatOrNan\n  File \"_catboost.pyx\", line 983, in _catboost._FloatOrNanFromString\nTypeError: Cannot convert 'b'2019-520'' to float\n\nDuring handling of the above exception, another exception occurred:\n\nTraceback (most recent call last):\n  File \"/Users/meganguidry/miniconda3/lib/python3.11/site-packages/sklearn/model_selection/_validation.py\", line 729, in _fit_and_score\n    estimator.fit(X_train, y_train, **fit_params)\n  File \"/Users/meganguidry/miniconda3/lib/python3.11/site-packages/catboost/core.py\", line 5807, in fit\n    return self._fit(X, y, cat_features, text_features, embedding_features, None, sample_weight, None, None, None, None, baseline,\n           ^^^^^^^^^^^^^^^^^^^^^^^^^^^^^^^^^^^^^^^^^^^^^^^^^^^^^^^^^^^^^^^^^^^^^^^^^^^^^^^^^^^^^^^^^^^^^^^^^^^^^^^^^^^^^^^^^^^^^^^\n  File \"/Users/meganguidry/miniconda3/lib/python3.11/site-packages/catboost/core.py\", line 2381, in _fit\n    train_params = self._prepare_train_params(\n                   ^^^^^^^^^^^^^^^^^^^^^^^^^^^\n  File \"/Users/meganguidry/miniconda3/lib/python3.11/site-packages/catboost/core.py\", line 2261, in _prepare_train_params\n    train_pool = _build_train_pool(X, y, cat_features, text_features, embedding_features, pairs,\n                 ^^^^^^^^^^^^^^^^^^^^^^^^^^^^^^^^^^^^^^^^^^^^^^^^^^^^^^^^^^^^^^^^^^^^^^^^^^^^^^^\n  File \"/Users/meganguidry/miniconda3/lib/python3.11/site-packages/catboost/core.py\", line 1499, in _build_train_pool\n    train_pool = Pool(X, y, cat_features=cat_features, text_features=text_features, embedding_features=embedding_features, pairs=pairs, weight=sample_weight, group_id=group_id,\n                 ^^^^^^^^^^^^^^^^^^^^^^^^^^^^^^^^^^^^^^^^^^^^^^^^^^^^^^^^^^^^^^^^^^^^^^^^^^^^^^^^^^^^^^^^^^^^^^^^^^^^^^^^^^^^^^^^^^^^^^^^^^^^^^^^^^^^^^^^^^^^^^^^^^^^^^^^^^^^^^^\n  File \"/Users/meganguidry/miniconda3/lib/python3.11/site-packages/catboost/core.py\", line 844, in __init__\n    self._init(data, label, cat_features, text_features, embedding_features, embedding_features_data, pairs, weight,\n  File \"/Users/meganguidry/miniconda3/lib/python3.11/site-packages/catboost/core.py\", line 1477, in _init\n    self._init_pool(data, label, cat_features, text_features, embedding_features, embedding_features_data, pairs, weight,\n  File \"_catboost.pyx\", line 4159, in _catboost._PoolBase._init_pool\n  File \"_catboost.pyx\", line 4209, in _catboost._PoolBase._init_pool\n  File \"_catboost.pyx\", line 4025, in _catboost._PoolBase._init_features_order_layout_pool\n  File \"_catboost.pyx\", line 2963, in _catboost._set_features_order_data_pd_data_frame\n  File \"_catboost.pyx\", line 2427, in _catboost.create_num_factor_data\n  File \"_catboost.pyx\", line 2385, in _catboost.get_float_feature\n_catboost.CatBoostError: Bad value for num_feature[non_default_doc_idx=0,feature_idx=0]=\"2019-520\": Cannot convert 'b'2019-520'' to float\n",
     "output_type": "error",
     "traceback": [
      "\u001b[0;31m---------------------------------------------------------------------------\u001b[0m",
      "\u001b[0;31mValueError\u001b[0m                                Traceback (most recent call last)",
      "Cell \u001b[0;32mIn[132], line 14\u001b[0m\n\u001b[1;32m      6\u001b[0m random_seed \u001b[38;5;241m=\u001b[39m \u001b[38;5;241m42\u001b[39m\n\u001b[1;32m      8\u001b[0m kfold \u001b[38;5;241m=\u001b[39m KFold(\n\u001b[1;32m      9\u001b[0m     n_splits\u001b[38;5;241m=\u001b[39mnum_folds,\n\u001b[1;32m     10\u001b[0m     shuffle\u001b[38;5;241m=\u001b[39m\u001b[38;5;28;01mTrue\u001b[39;00m,\n\u001b[1;32m     11\u001b[0m     random_state\u001b[38;5;241m=\u001b[39mrandom_seed,\n\u001b[1;32m     12\u001b[0m )\n\u001b[0;32m---> 14\u001b[0m results \u001b[38;5;241m=\u001b[39m \u001b[43mcross_val_score\u001b[49m\u001b[43m(\u001b[49m\n\u001b[1;32m     15\u001b[0m \u001b[43m    \u001b[49m\u001b[43mestimator\u001b[49m\u001b[43m \u001b[49m\u001b[38;5;241;43m=\u001b[39;49m\u001b[43m \u001b[49m\u001b[43mmodel\u001b[49m\u001b[43m,\u001b[49m\u001b[43m \u001b[49m\u001b[38;5;66;43;03m# select the model we want to test\u001b[39;49;00m\n\u001b[1;32m     16\u001b[0m \u001b[43m    \u001b[49m\u001b[43mX\u001b[49m\u001b[43m \u001b[49m\u001b[38;5;241;43m=\u001b[39;49m\u001b[43m \u001b[49m\u001b[43mX\u001b[49m\u001b[43m,\u001b[49m\u001b[43m \u001b[49m\u001b[38;5;66;43;03m# in other scenarios this should be X_train\u001b[39;49;00m\n\u001b[1;32m     17\u001b[0m \u001b[43m    \u001b[49m\u001b[43my\u001b[49m\u001b[43m \u001b[49m\u001b[38;5;241;43m=\u001b[39;49m\u001b[43m \u001b[49m\u001b[43my\u001b[49m\u001b[43m,\u001b[49m\u001b[43m \u001b[49m\n\u001b[1;32m     18\u001b[0m \u001b[43m    \u001b[49m\u001b[43mcv\u001b[49m\u001b[38;5;241;43m=\u001b[39;49m\u001b[43mkfold\u001b[49m\u001b[43m,\u001b[49m\u001b[43m \u001b[49m\u001b[38;5;66;43;03m# tell what fold template to use\u001b[39;49;00m\n\u001b[1;32m     19\u001b[0m \u001b[43m    \u001b[49m\u001b[43mscoring\u001b[49m\u001b[38;5;241;43m=\u001b[39;49m\u001b[38;5;124;43m\"\u001b[39;49m\u001b[38;5;124;43mr2\u001b[39;49m\u001b[38;5;124;43m\"\u001b[39;49m\u001b[43m \u001b[49m\u001b[38;5;66;43;03m# This is an evaluation metric\u001b[39;49;00m\n\u001b[1;32m     20\u001b[0m \u001b[43m)\u001b[49m\n\u001b[1;32m     22\u001b[0m results\n",
      "File \u001b[0;32m~/miniconda3/lib/python3.11/site-packages/sklearn/model_selection/_validation.py:562\u001b[0m, in \u001b[0;36mcross_val_score\u001b[0;34m(estimator, X, y, groups, scoring, cv, n_jobs, verbose, fit_params, pre_dispatch, error_score)\u001b[0m\n\u001b[1;32m    559\u001b[0m \u001b[38;5;66;03m# To ensure multimetric format is not supported\u001b[39;00m\n\u001b[1;32m    560\u001b[0m scorer \u001b[38;5;241m=\u001b[39m check_scoring(estimator, scoring\u001b[38;5;241m=\u001b[39mscoring)\n\u001b[0;32m--> 562\u001b[0m cv_results \u001b[38;5;241m=\u001b[39m \u001b[43mcross_validate\u001b[49m\u001b[43m(\u001b[49m\n\u001b[1;32m    563\u001b[0m \u001b[43m    \u001b[49m\u001b[43mestimator\u001b[49m\u001b[38;5;241;43m=\u001b[39;49m\u001b[43mestimator\u001b[49m\u001b[43m,\u001b[49m\n\u001b[1;32m    564\u001b[0m \u001b[43m    \u001b[49m\u001b[43mX\u001b[49m\u001b[38;5;241;43m=\u001b[39;49m\u001b[43mX\u001b[49m\u001b[43m,\u001b[49m\n\u001b[1;32m    565\u001b[0m \u001b[43m    \u001b[49m\u001b[43my\u001b[49m\u001b[38;5;241;43m=\u001b[39;49m\u001b[43my\u001b[49m\u001b[43m,\u001b[49m\n\u001b[1;32m    566\u001b[0m \u001b[43m    \u001b[49m\u001b[43mgroups\u001b[49m\u001b[38;5;241;43m=\u001b[39;49m\u001b[43mgroups\u001b[49m\u001b[43m,\u001b[49m\n\u001b[1;32m    567\u001b[0m \u001b[43m    \u001b[49m\u001b[43mscoring\u001b[49m\u001b[38;5;241;43m=\u001b[39;49m\u001b[43m{\u001b[49m\u001b[38;5;124;43m\"\u001b[39;49m\u001b[38;5;124;43mscore\u001b[39;49m\u001b[38;5;124;43m\"\u001b[39;49m\u001b[43m:\u001b[49m\u001b[43m \u001b[49m\u001b[43mscorer\u001b[49m\u001b[43m}\u001b[49m\u001b[43m,\u001b[49m\n\u001b[1;32m    568\u001b[0m \u001b[43m    \u001b[49m\u001b[43mcv\u001b[49m\u001b[38;5;241;43m=\u001b[39;49m\u001b[43mcv\u001b[49m\u001b[43m,\u001b[49m\n\u001b[1;32m    569\u001b[0m \u001b[43m    \u001b[49m\u001b[43mn_jobs\u001b[49m\u001b[38;5;241;43m=\u001b[39;49m\u001b[43mn_jobs\u001b[49m\u001b[43m,\u001b[49m\n\u001b[1;32m    570\u001b[0m \u001b[43m    \u001b[49m\u001b[43mverbose\u001b[49m\u001b[38;5;241;43m=\u001b[39;49m\u001b[43mverbose\u001b[49m\u001b[43m,\u001b[49m\n\u001b[1;32m    571\u001b[0m \u001b[43m    \u001b[49m\u001b[43mfit_params\u001b[49m\u001b[38;5;241;43m=\u001b[39;49m\u001b[43mfit_params\u001b[49m\u001b[43m,\u001b[49m\n\u001b[1;32m    572\u001b[0m \u001b[43m    \u001b[49m\u001b[43mpre_dispatch\u001b[49m\u001b[38;5;241;43m=\u001b[39;49m\u001b[43mpre_dispatch\u001b[49m\u001b[43m,\u001b[49m\n\u001b[1;32m    573\u001b[0m \u001b[43m    \u001b[49m\u001b[43merror_score\u001b[49m\u001b[38;5;241;43m=\u001b[39;49m\u001b[43merror_score\u001b[49m\u001b[43m,\u001b[49m\n\u001b[1;32m    574\u001b[0m \u001b[43m\u001b[49m\u001b[43m)\u001b[49m\n\u001b[1;32m    575\u001b[0m \u001b[38;5;28;01mreturn\u001b[39;00m cv_results[\u001b[38;5;124m\"\u001b[39m\u001b[38;5;124mtest_score\u001b[39m\u001b[38;5;124m\"\u001b[39m]\n",
      "File \u001b[0;32m~/miniconda3/lib/python3.11/site-packages/sklearn/utils/_param_validation.py:214\u001b[0m, in \u001b[0;36mvalidate_params.<locals>.decorator.<locals>.wrapper\u001b[0;34m(*args, **kwargs)\u001b[0m\n\u001b[1;32m    208\u001b[0m \u001b[38;5;28;01mtry\u001b[39;00m:\n\u001b[1;32m    209\u001b[0m     \u001b[38;5;28;01mwith\u001b[39;00m config_context(\n\u001b[1;32m    210\u001b[0m         skip_parameter_validation\u001b[38;5;241m=\u001b[39m(\n\u001b[1;32m    211\u001b[0m             prefer_skip_nested_validation \u001b[38;5;129;01mor\u001b[39;00m global_skip_validation\n\u001b[1;32m    212\u001b[0m         )\n\u001b[1;32m    213\u001b[0m     ):\n\u001b[0;32m--> 214\u001b[0m         \u001b[38;5;28;01mreturn\u001b[39;00m \u001b[43mfunc\u001b[49m\u001b[43m(\u001b[49m\u001b[38;5;241;43m*\u001b[39;49m\u001b[43margs\u001b[49m\u001b[43m,\u001b[49m\u001b[43m \u001b[49m\u001b[38;5;241;43m*\u001b[39;49m\u001b[38;5;241;43m*\u001b[39;49m\u001b[43mkwargs\u001b[49m\u001b[43m)\u001b[49m\n\u001b[1;32m    215\u001b[0m \u001b[38;5;28;01mexcept\u001b[39;00m InvalidParameterError \u001b[38;5;28;01mas\u001b[39;00m e:\n\u001b[1;32m    216\u001b[0m     \u001b[38;5;66;03m# When the function is just a wrapper around an estimator, we allow\u001b[39;00m\n\u001b[1;32m    217\u001b[0m     \u001b[38;5;66;03m# the function to delegate validation to the estimator, but we replace\u001b[39;00m\n\u001b[1;32m    218\u001b[0m     \u001b[38;5;66;03m# the name of the estimator by the name of the function in the error\u001b[39;00m\n\u001b[1;32m    219\u001b[0m     \u001b[38;5;66;03m# message to avoid confusion.\u001b[39;00m\n\u001b[1;32m    220\u001b[0m     msg \u001b[38;5;241m=\u001b[39m re\u001b[38;5;241m.\u001b[39msub(\n\u001b[1;32m    221\u001b[0m         \u001b[38;5;124mr\u001b[39m\u001b[38;5;124m\"\u001b[39m\u001b[38;5;124mparameter of \u001b[39m\u001b[38;5;124m\\\u001b[39m\u001b[38;5;124mw+ must be\u001b[39m\u001b[38;5;124m\"\u001b[39m,\n\u001b[1;32m    222\u001b[0m         \u001b[38;5;124mf\u001b[39m\u001b[38;5;124m\"\u001b[39m\u001b[38;5;124mparameter of \u001b[39m\u001b[38;5;132;01m{\u001b[39;00mfunc\u001b[38;5;241m.\u001b[39m\u001b[38;5;18m__qualname__\u001b[39m\u001b[38;5;132;01m}\u001b[39;00m\u001b[38;5;124m must be\u001b[39m\u001b[38;5;124m\"\u001b[39m,\n\u001b[1;32m    223\u001b[0m         \u001b[38;5;28mstr\u001b[39m(e),\n\u001b[1;32m    224\u001b[0m     )\n",
      "File \u001b[0;32m~/miniconda3/lib/python3.11/site-packages/sklearn/model_selection/_validation.py:328\u001b[0m, in \u001b[0;36mcross_validate\u001b[0;34m(estimator, X, y, groups, scoring, cv, n_jobs, verbose, fit_params, pre_dispatch, return_train_score, return_estimator, return_indices, error_score)\u001b[0m\n\u001b[1;32m    308\u001b[0m parallel \u001b[38;5;241m=\u001b[39m Parallel(n_jobs\u001b[38;5;241m=\u001b[39mn_jobs, verbose\u001b[38;5;241m=\u001b[39mverbose, pre_dispatch\u001b[38;5;241m=\u001b[39mpre_dispatch)\n\u001b[1;32m    309\u001b[0m results \u001b[38;5;241m=\u001b[39m parallel(\n\u001b[1;32m    310\u001b[0m     delayed(_fit_and_score)(\n\u001b[1;32m    311\u001b[0m         clone(estimator),\n\u001b[0;32m   (...)\u001b[0m\n\u001b[1;32m    325\u001b[0m     \u001b[38;5;28;01mfor\u001b[39;00m train, test \u001b[38;5;129;01min\u001b[39;00m indices\n\u001b[1;32m    326\u001b[0m )\n\u001b[0;32m--> 328\u001b[0m \u001b[43m_warn_or_raise_about_fit_failures\u001b[49m\u001b[43m(\u001b[49m\u001b[43mresults\u001b[49m\u001b[43m,\u001b[49m\u001b[43m \u001b[49m\u001b[43merror_score\u001b[49m\u001b[43m)\u001b[49m\n\u001b[1;32m    330\u001b[0m \u001b[38;5;66;03m# For callable scoring, the return type is only know after calling. If the\u001b[39;00m\n\u001b[1;32m    331\u001b[0m \u001b[38;5;66;03m# return type is a dictionary, the error scores can now be inserted with\u001b[39;00m\n\u001b[1;32m    332\u001b[0m \u001b[38;5;66;03m# the correct key.\u001b[39;00m\n\u001b[1;32m    333\u001b[0m \u001b[38;5;28;01mif\u001b[39;00m \u001b[38;5;28mcallable\u001b[39m(scoring):\n",
      "File \u001b[0;32m~/miniconda3/lib/python3.11/site-packages/sklearn/model_selection/_validation.py:414\u001b[0m, in \u001b[0;36m_warn_or_raise_about_fit_failures\u001b[0;34m(results, error_score)\u001b[0m\n\u001b[1;32m    407\u001b[0m \u001b[38;5;28;01mif\u001b[39;00m num_failed_fits \u001b[38;5;241m==\u001b[39m num_fits:\n\u001b[1;32m    408\u001b[0m     all_fits_failed_message \u001b[38;5;241m=\u001b[39m (\n\u001b[1;32m    409\u001b[0m         \u001b[38;5;124mf\u001b[39m\u001b[38;5;124m\"\u001b[39m\u001b[38;5;130;01m\\n\u001b[39;00m\u001b[38;5;124mAll the \u001b[39m\u001b[38;5;132;01m{\u001b[39;00mnum_fits\u001b[38;5;132;01m}\u001b[39;00m\u001b[38;5;124m fits failed.\u001b[39m\u001b[38;5;130;01m\\n\u001b[39;00m\u001b[38;5;124m\"\u001b[39m\n\u001b[1;32m    410\u001b[0m         \u001b[38;5;124m\"\u001b[39m\u001b[38;5;124mIt is very likely that your model is misconfigured.\u001b[39m\u001b[38;5;130;01m\\n\u001b[39;00m\u001b[38;5;124m\"\u001b[39m\n\u001b[1;32m    411\u001b[0m         \u001b[38;5;124m\"\u001b[39m\u001b[38;5;124mYou can try to debug the error by setting error_score=\u001b[39m\u001b[38;5;124m'\u001b[39m\u001b[38;5;124mraise\u001b[39m\u001b[38;5;124m'\u001b[39m\u001b[38;5;124m.\u001b[39m\u001b[38;5;130;01m\\n\u001b[39;00m\u001b[38;5;130;01m\\n\u001b[39;00m\u001b[38;5;124m\"\u001b[39m\n\u001b[1;32m    412\u001b[0m         \u001b[38;5;124mf\u001b[39m\u001b[38;5;124m\"\u001b[39m\u001b[38;5;124mBelow are more details about the failures:\u001b[39m\u001b[38;5;130;01m\\n\u001b[39;00m\u001b[38;5;132;01m{\u001b[39;00mfit_errors_summary\u001b[38;5;132;01m}\u001b[39;00m\u001b[38;5;124m\"\u001b[39m\n\u001b[1;32m    413\u001b[0m     )\n\u001b[0;32m--> 414\u001b[0m     \u001b[38;5;28;01mraise\u001b[39;00m \u001b[38;5;167;01mValueError\u001b[39;00m(all_fits_failed_message)\n\u001b[1;32m    416\u001b[0m \u001b[38;5;28;01melse\u001b[39;00m:\n\u001b[1;32m    417\u001b[0m     some_fits_failed_message \u001b[38;5;241m=\u001b[39m (\n\u001b[1;32m    418\u001b[0m         \u001b[38;5;124mf\u001b[39m\u001b[38;5;124m\"\u001b[39m\u001b[38;5;130;01m\\n\u001b[39;00m\u001b[38;5;132;01m{\u001b[39;00mnum_failed_fits\u001b[38;5;132;01m}\u001b[39;00m\u001b[38;5;124m fits failed out of a total of \u001b[39m\u001b[38;5;132;01m{\u001b[39;00mnum_fits\u001b[38;5;132;01m}\u001b[39;00m\u001b[38;5;124m.\u001b[39m\u001b[38;5;130;01m\\n\u001b[39;00m\u001b[38;5;124m\"\u001b[39m\n\u001b[1;32m    419\u001b[0m         \u001b[38;5;124m\"\u001b[39m\u001b[38;5;124mThe score on these train-test partitions for these parameters\u001b[39m\u001b[38;5;124m\"\u001b[39m\n\u001b[0;32m   (...)\u001b[0m\n\u001b[1;32m    423\u001b[0m         \u001b[38;5;124mf\u001b[39m\u001b[38;5;124m\"\u001b[39m\u001b[38;5;124mBelow are more details about the failures:\u001b[39m\u001b[38;5;130;01m\\n\u001b[39;00m\u001b[38;5;132;01m{\u001b[39;00mfit_errors_summary\u001b[38;5;132;01m}\u001b[39;00m\u001b[38;5;124m\"\u001b[39m\n\u001b[1;32m    424\u001b[0m     )\n",
      "\u001b[0;31mValueError\u001b[0m: \nAll the 5 fits failed.\nIt is very likely that your model is misconfigured.\nYou can try to debug the error by setting error_score='raise'.\n\nBelow are more details about the failures:\n--------------------------------------------------------------------------------\n5 fits failed with the following error:\nTraceback (most recent call last):\n  File \"_catboost.pyx\", line 2383, in _catboost.get_float_feature\n  File \"_catboost.pyx\", line 1188, in _catboost._FloatOrNan\n  File \"_catboost.pyx\", line 983, in _catboost._FloatOrNanFromString\nTypeError: Cannot convert 'b'2019-520'' to float\n\nDuring handling of the above exception, another exception occurred:\n\nTraceback (most recent call last):\n  File \"/Users/meganguidry/miniconda3/lib/python3.11/site-packages/sklearn/model_selection/_validation.py\", line 729, in _fit_and_score\n    estimator.fit(X_train, y_train, **fit_params)\n  File \"/Users/meganguidry/miniconda3/lib/python3.11/site-packages/catboost/core.py\", line 5807, in fit\n    return self._fit(X, y, cat_features, text_features, embedding_features, None, sample_weight, None, None, None, None, baseline,\n           ^^^^^^^^^^^^^^^^^^^^^^^^^^^^^^^^^^^^^^^^^^^^^^^^^^^^^^^^^^^^^^^^^^^^^^^^^^^^^^^^^^^^^^^^^^^^^^^^^^^^^^^^^^^^^^^^^^^^^^^\n  File \"/Users/meganguidry/miniconda3/lib/python3.11/site-packages/catboost/core.py\", line 2381, in _fit\n    train_params = self._prepare_train_params(\n                   ^^^^^^^^^^^^^^^^^^^^^^^^^^^\n  File \"/Users/meganguidry/miniconda3/lib/python3.11/site-packages/catboost/core.py\", line 2261, in _prepare_train_params\n    train_pool = _build_train_pool(X, y, cat_features, text_features, embedding_features, pairs,\n                 ^^^^^^^^^^^^^^^^^^^^^^^^^^^^^^^^^^^^^^^^^^^^^^^^^^^^^^^^^^^^^^^^^^^^^^^^^^^^^^^\n  File \"/Users/meganguidry/miniconda3/lib/python3.11/site-packages/catboost/core.py\", line 1499, in _build_train_pool\n    train_pool = Pool(X, y, cat_features=cat_features, text_features=text_features, embedding_features=embedding_features, pairs=pairs, weight=sample_weight, group_id=group_id,\n                 ^^^^^^^^^^^^^^^^^^^^^^^^^^^^^^^^^^^^^^^^^^^^^^^^^^^^^^^^^^^^^^^^^^^^^^^^^^^^^^^^^^^^^^^^^^^^^^^^^^^^^^^^^^^^^^^^^^^^^^^^^^^^^^^^^^^^^^^^^^^^^^^^^^^^^^^^^^^^^^^\n  File \"/Users/meganguidry/miniconda3/lib/python3.11/site-packages/catboost/core.py\", line 844, in __init__\n    self._init(data, label, cat_features, text_features, embedding_features, embedding_features_data, pairs, weight,\n  File \"/Users/meganguidry/miniconda3/lib/python3.11/site-packages/catboost/core.py\", line 1477, in _init\n    self._init_pool(data, label, cat_features, text_features, embedding_features, embedding_features_data, pairs, weight,\n  File \"_catboost.pyx\", line 4159, in _catboost._PoolBase._init_pool\n  File \"_catboost.pyx\", line 4209, in _catboost._PoolBase._init_pool\n  File \"_catboost.pyx\", line 4025, in _catboost._PoolBase._init_features_order_layout_pool\n  File \"_catboost.pyx\", line 2963, in _catboost._set_features_order_data_pd_data_frame\n  File \"_catboost.pyx\", line 2427, in _catboost.create_num_factor_data\n  File \"_catboost.pyx\", line 2385, in _catboost.get_float_feature\n_catboost.CatBoostError: Bad value for num_feature[non_default_doc_idx=0,feature_idx=0]=\"2019-520\": Cannot convert 'b'2019-520'' to float\n"
     ]
    }
   ],
   "source": [
    "# Use cross validation to check for signs of model overfitting\n",
    "\n",
    "#FIRST we must configure our K-cross validation\n",
    "\n",
    "num_folds = 5 # makes five splits\n",
    "random_seed = 42\n",
    "\n",
    "kfold = KFold(\n",
    "    n_splits=num_folds,\n",
    "    shuffle=True,\n",
    "    random_state=random_seed,\n",
    ")\n",
    "\n",
    "results = cross_val_score(\n",
    "    estimator = model, # select the model we want to test\n",
    "    X = X, # in other scenarios this should be X_train\n",
    "    y = y, \n",
    "    cv=kfold, # tell what fold template to use\n",
    "    scoring=\"r2\" # This is an evaluation metric\n",
    ")\n",
    "\n",
    "results\n"
   ]
  },
  {
   "cell_type": "code",
   "execution_count": 161,
   "id": "f94c9b32-3832-4623-bd2a-2439c607a596",
   "metadata": {},
   "outputs": [
    {
     "data": {
      "text/plain": [
       "<pandas.core.groupby.generic.DataFrameGroupBy object at 0x16a47d1d0>"
      ]
     },
     "execution_count": 161,
     "metadata": {},
     "output_type": "execute_result"
    }
   ],
   "source": [
    "# How to determine if someone has a high return ability?\n",
    "# Look at the serve-ability of their opponent. Is this in the low, mid, or high ability range?\n",
    "# If high, and number of aced delivered is low we can guess the return ablity of this player is high.\n",
    "\n",
    "# look at how many aces their opponent delivered. \n",
    "# Is this less than, equal to, or greater than the number of aces that are normally delivered to this player?\n",
    "# Is this less than equal to, or greater than the number of aces that are normally delivered by this opponent?\n",
    "\n",
    "tennis_df.groupby(\"winner_name\")"
   ]
  },
  {
   "cell_type": "code",
   "execution_count": 162,
   "id": "562256e9-10c9-4fe8-bd18-b6c3e01a90bc",
   "metadata": {},
   "outputs": [
    {
     "data": {
      "text/plain": [
       "Index(['X', 'tourney_id', 'tourney_name', 'surface', 'tourney_date',\n",
       "       'match_date', 'match_num', 'round', 'best_of', 'gender', 'winner_id',\n",
       "       'winner_seed', 'winner_rank', 'winner_name', 'winner_age',\n",
       "       'winner_rating_score', 'winner_serve_ability', 'loser_id', 'loser_seed',\n",
       "       'loser_rank', 'loser_name', 'loser_age', 'loser_rating_score',\n",
       "       'loser_serve_ability', 'score', 'minutes', 'winner_aces',\n",
       "       'winner_double_faults', 'winner_service_points',\n",
       "       'winner_first_serves_in', 'winner_first_serves_won',\n",
       "       'winner_second_serves_won', 'winner_break_points_saved',\n",
       "       'winner_break_points_faced', 'winner_sets', 'winner_games',\n",
       "       'loser_aces', 'loser_double_faults', 'loser_service_points',\n",
       "       'loser_first_serves_in', 'loser_first_serves_won',\n",
       "       'loser_second_serves_won', 'loser_break_points_saved',\n",
       "       'loser_break_points_faced', 'loser_sets', 'loser_games', 'total_aces'],\n",
       "      dtype='object')"
      ]
     },
     "execution_count": 162,
     "metadata": {},
     "output_type": "execute_result"
    }
   ],
   "source": [
    "tennis_df.columns"
   ]
  },
  {
   "cell_type": "code",
   "execution_count": null,
   "id": "a917e8d1-aa4b-47fd-bd23-9be13bc9fda3",
   "metadata": {},
   "outputs": [],
   "source": []
  }
 ],
 "metadata": {
  "kernelspec": {
   "display_name": "Python 3 (ipykernel)",
   "language": "python",
   "name": "python3"
  },
  "language_info": {
   "codemirror_mode": {
    "name": "ipython",
    "version": 3
   },
   "file_extension": ".py",
   "mimetype": "text/x-python",
   "name": "python",
   "nbconvert_exporter": "python",
   "pygments_lexer": "ipython3",
   "version": "3.11.7"
  }
 },
 "nbformat": 4,
 "nbformat_minor": 5
}
